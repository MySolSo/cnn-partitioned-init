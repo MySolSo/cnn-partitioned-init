{
 "cells": [
  {
   "metadata": {},
   "cell_type": "markdown",
   "source": [
    "# This is a sample code snipped for the \"Accelerated Neural Network Initialization via Distributed Training of Symmetrically Partitioned Models\"\n",
    "\n",
    "Below is an example illustrating the approach described in the article. This example focuses solely on splitting the model into two parts. We will train each part separately on the split dataset, then merge them to train the complete model. Finally, we will compare our approach to a normal training method and highlight the differences.\n",
    "\n",
    "This code snippet is meant to help better understand the article and is intended for testing purposes. Further optimizations and refactoring could lead to a more robust implementation."
   ],
   "id": "8a77807f92f26ee"
  },
  {
   "metadata": {
    "ExecuteTime": {
     "end_time": "2025-08-17T11:43:40.935427Z",
     "start_time": "2025-08-17T11:43:40.932781Z"
    }
   },
   "cell_type": "code",
   "source": [
    "import tensorflow as tf\n",
    "print(\"Num GPUs Available: \", len(tf.config.list_physical_devices('GPU')))\n",
    "print(\"Splitting cifar100 into 2 horizontal spaces\")\n"
   ],
   "id": "fbc121e30a2defb3",
   "outputs": [
    {
     "name": "stdout",
     "output_type": "stream",
     "text": [
      "Num GPUs Available:  1\n",
      "Splitting cifar100 into 2 horizontal spaces\n"
     ]
    }
   ],
   "execution_count": 21
  },
  {
   "metadata": {
    "ExecuteTime": {
     "end_time": "2025-08-17T11:43:40.980663Z",
     "start_time": "2025-08-17T11:43:40.978121Z"
    }
   },
   "cell_type": "code",
   "source": [
    "import numpy as np\n",
    "import pandas as pd\n",
    "# import tensorflow as tf\n",
    "from tensorflow import keras\n",
    "import matplotlib.pyplot as plt\n",
    "from tensorflow.keras import layers\n",
    "from keras.models import Sequential\n",
    "from keras.layers import Conv2D, MaxPooling2D, Flatten, Dense, Dropout, BatchNormalization, Input\n",
    "from keras.layers import Activation\n",
    "from keras.optimizers import Adam\n",
    "from sklearn.model_selection import train_test_split\n"
   ],
   "id": "a5ca7d0077c82a55",
   "outputs": [],
   "execution_count": 22
  },
  {
   "metadata": {},
   "cell_type": "markdown",
   "source": [
    "## Global configuration and dataset loading\n",
    "\n",
    "- Sets hyperparameters and architectural sizes (filters, dense sizes).\n",
    "- Load the cifar10 dataset for final testing and validation.\n"
   ],
   "id": "be02be948983c832"
  },
  {
   "metadata": {
    "ExecuteTime": {
     "end_time": "2025-08-17T11:43:41.633087Z",
     "start_time": "2025-08-17T11:43:41.003007Z"
    }
   },
   "cell_type": "code",
   "source": [
    "NUM_CLASSES = 100\n",
    "NUM_SPLITS_W = 2\n",
    "NUM_SPLITS_H = 0\n",
    "NUM_SPLITS = NUM_SPLITS_W + NUM_SPLITS_H\n",
    "\n",
    "INPUT_SHAPE = 32\n",
    "    \n",
    "CONV1_FILTERS = 64\n",
    "CONV2_FILTERS = 32\n",
    "\n",
    "DENSE1_SIZE = 64\n",
    "DENSE2_SIZE = 64\n",
    "\n",
    "dataset = keras.datasets.cifar10.load_data()\n",
    "((X_train, y_train), (X_test, y_test)) = dataset\n",
    "X_train = X_train.astype('float32') / 255\n",
    "X_test = X_test.astype('float32') / 255\n",
    "y_train = keras.utils.to_categorical(y_train, num_classes=NUM_CLASSES)\n",
    "y_test = keras.utils.to_categorical(y_test, num_classes=NUM_CLASSES)\n"
   ],
   "id": "b53afecbf13ad155",
   "outputs": [],
   "execution_count": 23
  },
  {
   "metadata": {},
   "cell_type": "markdown",
   "source": [
    "# Splits the input dataset horizontally into multiple subsets.\n",
    "\n",
    "This function takes a dataset (defaulting to CIFAR-100) and splits the training and testing images\n",
    "    into `num_splits_h` horizontal subsets.  This is a key step in the described approach to\n",
    "    distributed training and accelerated initialization.  The goal is to train separate parts of the model\n",
    "    on these subsets and later merge them for full training."
   ],
   "id": "44dfb054310e77cc"
  },
  {
   "metadata": {
    "ExecuteTime": {
     "end_time": "2025-08-17T11:43:41.912662Z",
     "start_time": "2025-08-17T11:43:41.646518Z"
    }
   },
   "cell_type": "code",
   "source": [
    "def splitData(dataset = keras.datasets.cifar100.load_data(label_mode=\"coarse\"), num_splits_h=2, num_splits_w=0):\n",
    "    (X_train, y_train), (X_test, y_test) = dataset\n",
    "    \n",
    "    split_shape = INPUT_SHAPE // num_splits_h\n",
    "    \n",
    "    print(f\"ratio: wh-{split_shape} set-{num_splits_h} test-{split_shape*num_splits_h == INPUT_SHAPE}\")\n",
    "    print(f\"train shape: {X_train.shape}\")\n",
    "\n",
    "    x_train_arr = []\n",
    "    x_test_arr = []\n",
    "    for i in range(num_splits_h):\n",
    "        x_sub_train = X_train[:, i*split_shape:(i+1)*split_shape, :].astype('float32') / 255\n",
    "        x_sub_test = X_test[:, i*split_shape:(i+1)*split_shape, :].astype('float32') / 255\n",
    "        x_train_arr.append(x_sub_train)\n",
    "        x_test_arr.append(x_sub_test)\n",
    "\n",
    "    print(f\"split shape: {x_train_arr[0].shape}\")\n",
    "    \n",
    "    y_train = keras.utils.to_categorical(y_train, num_classes=NUM_CLASSES)\n",
    "    y_test = keras.utils.to_categorical(y_test, num_classes=NUM_CLASSES)\n",
    "    \n",
    "    return x_train_arr, y_train, x_test_arr, y_test"
   ],
   "id": "3dafa3106458a3c",
   "outputs": [],
   "execution_count": 24
  },
  {
   "metadata": {},
   "cell_type": "markdown",
   "source": [
    "# Defines an CNN model with partitioned filters and sizes for distributed training.\n",
    "\n",
    "This function constructs a convolutional neural network.  It modifies the standard\n",
    "    architecture by dividing the number of filters in convolutional layers (CONV1_FILTERS, CONV2_FILTERS)\n",
    "    and the size of dense layers (DENSE1_SIZE, DENSE2_SIZE) by `num_splits`. This partitioning is\n",
    "    intended to enable distributed training, where different parts of the model can be trained on\n",
    "    different subsets of the data."
   ],
   "id": "96c9f3a6fd18bdc8"
  },
  {
   "metadata": {
    "ExecuteTime": {
     "end_time": "2025-08-17T11:43:41.929893Z",
     "start_time": "2025-08-17T11:43:41.926722Z"
    }
   },
   "cell_type": "code",
   "source": [
    "\n",
    "def create_cnn(input_shape=(224, 224, 3), num_classes=NUM_CLASSES, num_splits=2):\n",
    "    conv1_f = CONV1_FILTERS // num_splits\n",
    "    conv2_f = CONV2_FILTERS // num_splits\n",
    "    dense1_s = DENSE1_SIZE // num_splits\n",
    "    dense2_s = DENSE2_SIZE // num_splits\n",
    "    # [48,128,96,192,64]\n",
    "\n",
    "    model = Sequential()\n",
    "    model.add(Conv2D(conv1_f, (4, 4), padding='same', input_shape=input_shape))\n",
    "    model.add(MaxPooling2D(pool_size=(2, 2), strides=2))\n",
    "    model.add(Activation('relu'))\n",
    "    model.add(Dropout(0.25))\n",
    "\n",
    "    model.add(Conv2D(conv1_f, (2, 2), padding='same'))\n",
    "    model.add(Activation('relu'))\n",
    "    model.add(Dropout(0.25))\n",
    "\n",
    "    model.add(Conv2D(conv2_f, (3, 3), padding='same'))\n",
    "    model.add(Activation('relu'))\n",
    "    model.add(Dropout(0.25))\n",
    "\n",
    "    model.add(Conv2D(conv2_f, (3, 3), padding='same'))\n",
    "    model.add(Activation('relu'))\n",
    "    model.add(MaxPooling2D(pool_size=(2, 2), strides=2))\n",
    "    model.add(Dropout(0.15))\n",
    "\n",
    "    model.add(Flatten())\n",
    "    model.add(Dense(DENSE1_SIZE, trainable=True))\n",
    "    model.add(Activation('relu'))\n",
    "    model.add(Dropout(0.25))\n",
    "\n",
    "    model.add(Dense(dense2_s, trainable=True))\n",
    "    model.add(Activation('tanh'))\n",
    "    # model.add(Dropout(0.25))\n",
    "    model.add(Dense(num_classes, activation='softmax'))\n",
    "\n",
    "    summary_str = []\n",
    "    model.summary(print_fn=lambda x: summary_str.append(x))\n",
    "        # Print layer index along with the existing summary\n",
    "    summary_str = summary_str[0].split('\\n')\n",
    "    i = 0\n",
    "    for x, line in enumerate(summary_str):\n",
    "            if 'None' in line:\n",
    "                if i < 10:\n",
    "                    print(f\" {i} {line}\")\n",
    "                else:\n",
    "                    print(f\"{i} {line}\")\n",
    "                i+=1\n",
    "            elif '─────────' in line:\n",
    "                print(f\"───{line}\")\n",
    "            else:\n",
    "                print(f\"   {line}\")\n",
    "\n",
    "    return model"
   ],
   "id": "eb2d7350dc70ed73",
   "outputs": [],
   "execution_count": 25
  },
  {
   "metadata": {},
   "cell_type": "markdown",
   "source": [
    "# Spawn split models\n",
    "- Creates num_splits separate instances of the partitioned CNN with the given input shape (the split-size).\n",
    "- Compiles each model with Adam + categorical cross-entropy and accuracy metric.\n",
    "- Returns a list of compiled models."
   ],
   "id": "e1f26e326ce6a257"
  },
  {
   "metadata": {
    "ExecuteTime": {
     "end_time": "2025-08-17T11:43:41.986220Z",
     "start_time": "2025-08-17T11:43:41.984410Z"
    }
   },
   "cell_type": "code",
   "source": [
    "def genModels(num_splits=NUM_SPLITS):\n",
    "    models = []\n",
    "    for i in range(num_splits):\n",
    "        model = create_cnn(input_shape, num_splits=num_splits)\n",
    "        model.compile(optimizer=Adam(), # learning_rate=0.01 # 0.001\n",
    "              loss='categorical_crossentropy',\n",
    "              metrics=['accuracy'])\n",
    "        models.append(model)\n",
    "    return models\n"
   ],
   "id": "bb2a9c4fa04daf3f",
   "outputs": [],
   "execution_count": 26
  },
  {
   "metadata": {},
   "cell_type": "markdown",
   "source": [
    "# Train each split-model on its corresponding data slice\n",
    "- Iterates through models, feeding x_train_arr[i] as input and the shared y_train labels.\n",
    "- Uses validation on the corresponding test split.\n",
    "- Returns the trained models and their Keras History objects for plotting/evaluation."
   ],
   "id": "ec74047261dd5900"
  },
  {
   "metadata": {
    "ExecuteTime": {
     "end_time": "2025-08-17T11:43:42.042146Z",
     "start_time": "2025-08-17T11:43:42.040362Z"
    }
   },
   "cell_type": "code",
   "source": [
    "\n",
    "def trainModels(models, data, epochs=1, callbacks=[]):\n",
    "    x_train_arr, y_train, x_test_arr, y_test = data\n",
    "    histories = []\n",
    "    for i, model in enumerate(models):\n",
    "        history = model.fit(x_train_arr[i], y_train, epochs=epochs, batch_size=128, validation_data=(x_test_arr[i], y_test), callbacks=callbacks)\n",
    "        histories.append(history)\n",
    "    return models, histories\n"
   ],
   "id": "dec5720329f4bf8f",
   "outputs": [],
   "execution_count": 27
  },
  {
   "metadata": {},
   "cell_type": "markdown",
   "source": "# Compute input_shape for split models + split the data + generate models",
   "id": "582d0663c558ae87"
  },
  {
   "metadata": {
    "ExecuteTime": {
     "end_time": "2025-08-17T11:43:42.666802Z",
     "start_time": "2025-08-17T11:43:42.096924Z"
    }
   },
   "cell_type": "code",
   "source": [
    "input_shape = (\n",
    "    INPUT_SHAPE // NUM_SPLITS_W if NUM_SPLITS_W != 0 else INPUT_SHAPE,\n",
    "    INPUT_SHAPE // NUM_SPLITS_H if NUM_SPLITS_H != 0 else INPUT_SHAPE,\n",
    "    3)\n",
    "\n",
    "data = splitData(num_splits_h=NUM_SPLITS_W)\n",
    "models = genModels()"
   ],
   "id": "df543503086438cf",
   "outputs": [
    {
     "name": "stdout",
     "output_type": "stream",
     "text": [
      "ratio: wh-16 set-2 test-True\n",
      "train shape: (50000, 32, 32, 3)\n",
      "split shape: (50000, 16, 32, 3)\n"
     ]
    },
    {
     "data": {
      "text/plain": [],
      "text/html": [
       "<pre style=\"white-space:pre;overflow-x:auto;line-height:normal;font-family:Menlo,'DejaVu Sans Mono',consolas,'Courier New',monospace\"></pre>\n"
      ]
     },
     "metadata": {},
     "output_type": "display_data"
    },
    {
     "name": "stdout",
     "output_type": "stream",
     "text": [
      "   Model: \"sequential_4\"\n",
      "   ┏━━━━━━━━━━━━━━━━━━━━━━━━━━━━━━━━━┳━━━━━━━━━━━━━━━━━━━━━━━━┳━━━━━━━━━━━━━━━┓\n",
      "   ┃ Layer (type)                    ┃ Output Shape           ┃       Param # ┃\n",
      "   ┡━━━━━━━━━━━━━━━━━━━━━━━━━━━━━━━━━╇━━━━━━━━━━━━━━━━━━━━━━━━╇━━━━━━━━━━━━━━━┩\n",
      " 0 │ conv2d_16 (Conv2D)              │ (None, 16, 32, 32)     │         1,568 │\n",
      "───├─────────────────────────────────┼────────────────────────┼───────────────┤\n",
      " 1 │ max_pooling2d_8 (MaxPooling2D)  │ (None, 8, 16, 32)      │             0 │\n",
      "───├─────────────────────────────────┼────────────────────────┼───────────────┤\n",
      " 2 │ activation_24 (Activation)      │ (None, 8, 16, 32)      │             0 │\n",
      "───├─────────────────────────────────┼────────────────────────┼───────────────┤\n",
      " 3 │ dropout_20 (Dropout)            │ (None, 8, 16, 32)      │             0 │\n",
      "───├─────────────────────────────────┼────────────────────────┼───────────────┤\n",
      " 4 │ conv2d_17 (Conv2D)              │ (None, 8, 16, 32)      │         4,128 │\n",
      "───├─────────────────────────────────┼────────────────────────┼───────────────┤\n",
      " 5 │ activation_25 (Activation)      │ (None, 8, 16, 32)      │             0 │\n",
      "───├─────────────────────────────────┼────────────────────────┼───────────────┤\n",
      " 6 │ dropout_21 (Dropout)            │ (None, 8, 16, 32)      │             0 │\n",
      "───├─────────────────────────────────┼────────────────────────┼───────────────┤\n",
      " 7 │ conv2d_18 (Conv2D)              │ (None, 8, 16, 16)      │         4,624 │\n",
      "───├─────────────────────────────────┼────────────────────────┼───────────────┤\n",
      " 8 │ activation_26 (Activation)      │ (None, 8, 16, 16)      │             0 │\n",
      "───├─────────────────────────────────┼────────────────────────┼───────────────┤\n",
      " 9 │ dropout_22 (Dropout)            │ (None, 8, 16, 16)      │             0 │\n",
      "───├─────────────────────────────────┼────────────────────────┼───────────────┤\n",
      "10 │ conv2d_19 (Conv2D)              │ (None, 8, 16, 16)      │         2,320 │\n",
      "───├─────────────────────────────────┼────────────────────────┼───────────────┤\n",
      "11 │ activation_27 (Activation)      │ (None, 8, 16, 16)      │             0 │\n",
      "───├─────────────────────────────────┼────────────────────────┼───────────────┤\n",
      "12 │ max_pooling2d_9 (MaxPooling2D)  │ (None, 4, 8, 16)       │             0 │\n",
      "───├─────────────────────────────────┼────────────────────────┼───────────────┤\n",
      "13 │ dropout_23 (Dropout)            │ (None, 4, 8, 16)       │             0 │\n",
      "───├─────────────────────────────────┼────────────────────────┼───────────────┤\n",
      "14 │ flatten_4 (Flatten)             │ (None, 512)            │             0 │\n",
      "───├─────────────────────────────────┼────────────────────────┼───────────────┤\n",
      "15 │ dense_12 (Dense)                │ (None, 64)             │        32,832 │\n",
      "───├─────────────────────────────────┼────────────────────────┼───────────────┤\n",
      "16 │ activation_28 (Activation)      │ (None, 64)             │             0 │\n",
      "───├─────────────────────────────────┼────────────────────────┼───────────────┤\n",
      "17 │ dropout_24 (Dropout)            │ (None, 64)             │             0 │\n",
      "───├─────────────────────────────────┼────────────────────────┼───────────────┤\n",
      "18 │ dense_13 (Dense)                │ (None, 32)             │         2,080 │\n",
      "───├─────────────────────────────────┼────────────────────────┼───────────────┤\n",
      "19 │ activation_29 (Activation)      │ (None, 32)             │             0 │\n",
      "───├─────────────────────────────────┼────────────────────────┼───────────────┤\n",
      "20 │ dense_14 (Dense)                │ (None, 100)            │         3,300 │\n",
      "───└─────────────────────────────────┴────────────────────────┴───────────────┘\n",
      "    Total params: 50,852 (198.64 KB)\n",
      "    Trainable params: 50,852 (198.64 KB)\n",
      "    Non-trainable params: 0 (0.00 B)\n",
      "   \n"
     ]
    },
    {
     "data": {
      "text/plain": [],
      "text/html": [
       "<pre style=\"white-space:pre;overflow-x:auto;line-height:normal;font-family:Menlo,'DejaVu Sans Mono',consolas,'Courier New',monospace\"></pre>\n"
      ]
     },
     "metadata": {},
     "output_type": "display_data"
    },
    {
     "name": "stdout",
     "output_type": "stream",
     "text": [
      "   Model: \"sequential_5\"\n",
      "   ┏━━━━━━━━━━━━━━━━━━━━━━━━━━━━━━━━━┳━━━━━━━━━━━━━━━━━━━━━━━━┳━━━━━━━━━━━━━━━┓\n",
      "   ┃ Layer (type)                    ┃ Output Shape           ┃       Param # ┃\n",
      "   ┡━━━━━━━━━━━━━━━━━━━━━━━━━━━━━━━━━╇━━━━━━━━━━━━━━━━━━━━━━━━╇━━━━━━━━━━━━━━━┩\n",
      " 0 │ conv2d_20 (Conv2D)              │ (None, 16, 32, 32)     │         1,568 │\n",
      "───├─────────────────────────────────┼────────────────────────┼───────────────┤\n",
      " 1 │ max_pooling2d_10 (MaxPooling2D) │ (None, 8, 16, 32)      │             0 │\n",
      "───├─────────────────────────────────┼────────────────────────┼───────────────┤\n",
      " 2 │ activation_30 (Activation)      │ (None, 8, 16, 32)      │             0 │\n",
      "───├─────────────────────────────────┼────────────────────────┼───────────────┤\n",
      " 3 │ dropout_25 (Dropout)            │ (None, 8, 16, 32)      │             0 │\n",
      "───├─────────────────────────────────┼────────────────────────┼───────────────┤\n",
      " 4 │ conv2d_21 (Conv2D)              │ (None, 8, 16, 32)      │         4,128 │\n",
      "───├─────────────────────────────────┼────────────────────────┼───────────────┤\n",
      " 5 │ activation_31 (Activation)      │ (None, 8, 16, 32)      │             0 │\n",
      "───├─────────────────────────────────┼────────────────────────┼───────────────┤\n",
      " 6 │ dropout_26 (Dropout)            │ (None, 8, 16, 32)      │             0 │\n",
      "───├─────────────────────────────────┼────────────────────────┼───────────────┤\n",
      " 7 │ conv2d_22 (Conv2D)              │ (None, 8, 16, 16)      │         4,624 │\n",
      "───├─────────────────────────────────┼────────────────────────┼───────────────┤\n",
      " 8 │ activation_32 (Activation)      │ (None, 8, 16, 16)      │             0 │\n",
      "───├─────────────────────────────────┼────────────────────────┼───────────────┤\n",
      " 9 │ dropout_27 (Dropout)            │ (None, 8, 16, 16)      │             0 │\n",
      "───├─────────────────────────────────┼────────────────────────┼───────────────┤\n",
      "10 │ conv2d_23 (Conv2D)              │ (None, 8, 16, 16)      │         2,320 │\n",
      "───├─────────────────────────────────┼────────────────────────┼───────────────┤\n",
      "11 │ activation_33 (Activation)      │ (None, 8, 16, 16)      │             0 │\n",
      "───├─────────────────────────────────┼────────────────────────┼───────────────┤\n",
      "12 │ max_pooling2d_11 (MaxPooling2D) │ (None, 4, 8, 16)       │             0 │\n",
      "───├─────────────────────────────────┼────────────────────────┼───────────────┤\n",
      "13 │ dropout_28 (Dropout)            │ (None, 4, 8, 16)       │             0 │\n",
      "───├─────────────────────────────────┼────────────────────────┼───────────────┤\n",
      "14 │ flatten_5 (Flatten)             │ (None, 512)            │             0 │\n",
      "───├─────────────────────────────────┼────────────────────────┼───────────────┤\n",
      "15 │ dense_15 (Dense)                │ (None, 64)             │        32,832 │\n",
      "───├─────────────────────────────────┼────────────────────────┼───────────────┤\n",
      "16 │ activation_34 (Activation)      │ (None, 64)             │             0 │\n",
      "───├─────────────────────────────────┼────────────────────────┼───────────────┤\n",
      "17 │ dropout_29 (Dropout)            │ (None, 64)             │             0 │\n",
      "───├─────────────────────────────────┼────────────────────────┼───────────────┤\n",
      "18 │ dense_16 (Dense)                │ (None, 32)             │         2,080 │\n",
      "───├─────────────────────────────────┼────────────────────────┼───────────────┤\n",
      "19 │ activation_35 (Activation)      │ (None, 32)             │             0 │\n",
      "───├─────────────────────────────────┼────────────────────────┼───────────────┤\n",
      "20 │ dense_17 (Dense)                │ (None, 100)            │         3,300 │\n",
      "───└─────────────────────────────────┴────────────────────────┴───────────────┘\n",
      "    Total params: 50,852 (198.64 KB)\n",
      "    Trainable params: 50,852 (198.64 KB)\n",
      "    Non-trainable params: 0 (0.00 B)\n",
      "   \n"
     ]
    }
   ],
   "execution_count": 28
  },
  {
   "metadata": {},
   "cell_type": "markdown",
   "source": [
    "# Train split models\n",
    "\n",
    "- Optional EarlyStopping callback defined but not used in the call shown."
   ],
   "id": "cfb16fb99b13e78"
  },
  {
   "metadata": {
    "ExecuteTime": {
     "end_time": "2025-08-17T11:45:15.095403Z",
     "start_time": "2025-08-17T11:43:42.687599Z"
    }
   },
   "cell_type": "code",
   "source": [
    "callback = tf.keras.callbacks.EarlyStopping(monitor='loss', patience=3)\n",
    "\n",
    "models, histories = trainModels(models, data, epochs=50, callbacks=[]) #[callback]\n",
    "# model1.save('./s4-model1.keras')"
   ],
   "id": "5bd5f3952162b7b7",
   "outputs": [
    {
     "name": "stdout",
     "output_type": "stream",
     "text": [
      "Epoch 1/50\n"
     ]
    },
    {
     "name": "stderr",
     "output_type": "stream",
     "text": [
      "'+ptx85' is not a recognized feature for this target (ignoring feature)\n",
      "'+ptx85' is not a recognized feature for this target (ignoring feature)\n",
      "'+ptx85' is not a recognized feature for this target (ignoring feature)\n"
     ]
    },
    {
     "name": "stdout",
     "output_type": "stream",
     "text": [
      "\u001B[1m366/391\u001B[0m \u001B[32m━━━━━━━━━━━━━━━━━━\u001B[0m\u001B[37m━━\u001B[0m \u001B[1m0s\u001B[0m 2ms/step - accuracy: 0.0481 - loss: 3.3784"
     ]
    },
    {
     "name": "stderr",
     "output_type": "stream",
     "text": [
      "'+ptx85' is not a recognized feature for this target (ignoring feature)\n",
      "'+ptx85' is not a recognized feature for this target (ignoring feature)\n",
      "'+ptx85' is not a recognized feature for this target (ignoring feature)\n"
     ]
    },
    {
     "name": "stdout",
     "output_type": "stream",
     "text": [
      "\u001B[1m391/391\u001B[0m \u001B[32m━━━━━━━━━━━━━━━━━━━━\u001B[0m\u001B[37m\u001B[0m \u001B[1m0s\u001B[0m 5ms/step - accuracy: 0.0482 - loss: 3.3625"
     ]
    },
    {
     "name": "stderr",
     "output_type": "stream",
     "text": [
      "'+ptx85' is not a recognized feature for this target (ignoring feature)\n",
      "'+ptx85' is not a recognized feature for this target (ignoring feature)\n",
      "'+ptx85' is not a recognized feature for this target (ignoring feature)\n"
     ]
    },
    {
     "name": "stdout",
     "output_type": "stream",
     "text": [
      "\u001B[1m391/391\u001B[0m \u001B[32m━━━━━━━━━━━━━━━━━━━━\u001B[0m\u001B[37m\u001B[0m \u001B[1m5s\u001B[0m 7ms/step - accuracy: 0.0482 - loss: 3.3619 - val_accuracy: 0.0500 - val_loss: 3.0082\n",
      "Epoch 2/50\n",
      "\u001B[1m 61/391\u001B[0m \u001B[32m━━━\u001B[0m\u001B[37m━━━━━━━━━━━━━━━━━\u001B[0m \u001B[1m0s\u001B[0m 2ms/step - accuracy: 0.0521 - loss: 3.0087"
     ]
    },
    {
     "name": "stderr",
     "output_type": "stream",
     "text": [
      "'+ptx85' is not a recognized feature for this target (ignoring feature)\n",
      "'+ptx85' is not a recognized feature for this target (ignoring feature)\n",
      "'+ptx85' is not a recognized feature for this target (ignoring feature)\n"
     ]
    },
    {
     "name": "stdout",
     "output_type": "stream",
     "text": [
      "\u001B[1m391/391\u001B[0m \u001B[32m━━━━━━━━━━━━━━━━━━━━\u001B[0m\u001B[37m\u001B[0m \u001B[1m1s\u001B[0m 2ms/step - accuracy: 0.0506 - loss: 3.0072 - val_accuracy: 0.0500 - val_loss: 3.0029\n",
      "Epoch 3/50\n",
      "\u001B[1m391/391\u001B[0m \u001B[32m━━━━━━━━━━━━━━━━━━━━\u001B[0m\u001B[37m\u001B[0m \u001B[1m1s\u001B[0m 2ms/step - accuracy: 0.0501 - loss: 3.0024 - val_accuracy: 0.0500 - val_loss: 2.9994\n",
      "Epoch 4/50\n",
      "\u001B[1m391/391\u001B[0m \u001B[32m━━━━━━━━━━━━━━━━━━━━\u001B[0m\u001B[37m\u001B[0m \u001B[1m1s\u001B[0m 2ms/step - accuracy: 0.0593 - loss: 2.9837 - val_accuracy: 0.1546 - val_loss: 2.7500\n",
      "Epoch 5/50\n",
      "\u001B[1m391/391\u001B[0m \u001B[32m━━━━━━━━━━━━━━━━━━━━\u001B[0m\u001B[37m\u001B[0m \u001B[1m1s\u001B[0m 2ms/step - accuracy: 0.1533 - loss: 2.7274 - val_accuracy: 0.1888 - val_loss: 2.6171\n",
      "Epoch 6/50\n",
      "\u001B[1m391/391\u001B[0m \u001B[32m━━━━━━━━━━━━━━━━━━━━\u001B[0m\u001B[37m\u001B[0m \u001B[1m1s\u001B[0m 2ms/step - accuracy: 0.1940 - loss: 2.5968 - val_accuracy: 0.2244 - val_loss: 2.5194\n",
      "Epoch 7/50\n",
      "\u001B[1m391/391\u001B[0m \u001B[32m━━━━━━━━━━━━━━━━━━━━\u001B[0m\u001B[37m\u001B[0m \u001B[1m1s\u001B[0m 2ms/step - accuracy: 0.2176 - loss: 2.5237 - val_accuracy: 0.2352 - val_loss: 2.4655\n",
      "Epoch 8/50\n",
      "\u001B[1m391/391\u001B[0m \u001B[32m━━━━━━━━━━━━━━━━━━━━\u001B[0m\u001B[37m\u001B[0m \u001B[1m1s\u001B[0m 2ms/step - accuracy: 0.2324 - loss: 2.4829 - val_accuracy: 0.2518 - val_loss: 2.4115\n",
      "Epoch 9/50\n",
      "\u001B[1m391/391\u001B[0m \u001B[32m━━━━━━━━━━━━━━━━━━━━\u001B[0m\u001B[37m\u001B[0m \u001B[1m1s\u001B[0m 2ms/step - accuracy: 0.2426 - loss: 2.4447 - val_accuracy: 0.2640 - val_loss: 2.3845\n",
      "Epoch 10/50\n",
      "\u001B[1m391/391\u001B[0m \u001B[32m━━━━━━━━━━━━━━━━━━━━\u001B[0m\u001B[37m\u001B[0m \u001B[1m1s\u001B[0m 2ms/step - accuracy: 0.2504 - loss: 2.4057 - val_accuracy: 0.2761 - val_loss: 2.3363\n",
      "Epoch 11/50\n",
      "\u001B[1m391/391\u001B[0m \u001B[32m━━━━━━━━━━━━━━━━━━━━\u001B[0m\u001B[37m\u001B[0m \u001B[1m1s\u001B[0m 2ms/step - accuracy: 0.2624 - loss: 2.3769 - val_accuracy: 0.2725 - val_loss: 2.3331\n",
      "Epoch 12/50\n",
      "\u001B[1m391/391\u001B[0m \u001B[32m━━━━━━━━━━━━━━━━━━━━\u001B[0m\u001B[37m\u001B[0m \u001B[1m1s\u001B[0m 2ms/step - accuracy: 0.2654 - loss: 2.3616 - val_accuracy: 0.2841 - val_loss: 2.3071\n",
      "Epoch 13/50\n",
      "\u001B[1m391/391\u001B[0m \u001B[32m━━━━━━━━━━━━━━━━━━━━\u001B[0m\u001B[37m\u001B[0m \u001B[1m1s\u001B[0m 2ms/step - accuracy: 0.2722 - loss: 2.3379 - val_accuracy: 0.2936 - val_loss: 2.2832\n",
      "Epoch 14/50\n",
      "\u001B[1m391/391\u001B[0m \u001B[32m━━━━━━━━━━━━━━━━━━━━\u001B[0m\u001B[37m\u001B[0m \u001B[1m1s\u001B[0m 2ms/step - accuracy: 0.2728 - loss: 2.3294 - val_accuracy: 0.2949 - val_loss: 2.2694\n",
      "Epoch 15/50\n",
      "\u001B[1m391/391\u001B[0m \u001B[32m━━━━━━━━━━━━━━━━━━━━\u001B[0m\u001B[37m\u001B[0m \u001B[1m1s\u001B[0m 2ms/step - accuracy: 0.2808 - loss: 2.3099 - val_accuracy: 0.2988 - val_loss: 2.2583\n",
      "Epoch 16/50\n",
      "\u001B[1m391/391\u001B[0m \u001B[32m━━━━━━━━━━━━━━━━━━━━\u001B[0m\u001B[37m\u001B[0m \u001B[1m1s\u001B[0m 2ms/step - accuracy: 0.2874 - loss: 2.2973 - val_accuracy: 0.3049 - val_loss: 2.2598\n",
      "Epoch 17/50\n",
      "\u001B[1m391/391\u001B[0m \u001B[32m━━━━━━━━━━━━━━━━━━━━\u001B[0m\u001B[37m\u001B[0m \u001B[1m1s\u001B[0m 2ms/step - accuracy: 0.2939 - loss: 2.2815 - val_accuracy: 0.2991 - val_loss: 2.2678\n",
      "Epoch 18/50\n",
      "\u001B[1m391/391\u001B[0m \u001B[32m━━━━━━━━━━━━━━━━━━━━\u001B[0m\u001B[37m\u001B[0m \u001B[1m1s\u001B[0m 2ms/step - accuracy: 0.2927 - loss: 2.2753 - val_accuracy: 0.3036 - val_loss: 2.2491\n",
      "Epoch 19/50\n",
      "\u001B[1m391/391\u001B[0m \u001B[32m━━━━━━━━━━━━━━━━━━━━\u001B[0m\u001B[37m\u001B[0m \u001B[1m1s\u001B[0m 2ms/step - accuracy: 0.2994 - loss: 2.2595 - val_accuracy: 0.3142 - val_loss: 2.2117\n",
      "Epoch 20/50\n",
      "\u001B[1m391/391\u001B[0m \u001B[32m━━━━━━━━━━━━━━━━━━━━\u001B[0m\u001B[37m\u001B[0m \u001B[1m1s\u001B[0m 2ms/step - accuracy: 0.3027 - loss: 2.2449 - val_accuracy: 0.3183 - val_loss: 2.2008\n",
      "Epoch 21/50\n",
      "\u001B[1m391/391\u001B[0m \u001B[32m━━━━━━━━━━━━━━━━━━━━\u001B[0m\u001B[37m\u001B[0m \u001B[1m1s\u001B[0m 2ms/step - accuracy: 0.3046 - loss: 2.2436 - val_accuracy: 0.3164 - val_loss: 2.2214\n",
      "Epoch 22/50\n",
      "\u001B[1m391/391\u001B[0m \u001B[32m━━━━━━━━━━━━━━━━━━━━\u001B[0m\u001B[37m\u001B[0m \u001B[1m1s\u001B[0m 2ms/step - accuracy: 0.3083 - loss: 2.2356 - val_accuracy: 0.3219 - val_loss: 2.1878\n",
      "Epoch 23/50\n",
      "\u001B[1m391/391\u001B[0m \u001B[32m━━━━━━━━━━━━━━━━━━━━\u001B[0m\u001B[37m\u001B[0m \u001B[1m1s\u001B[0m 2ms/step - accuracy: 0.3096 - loss: 2.2219 - val_accuracy: 0.3199 - val_loss: 2.1878\n",
      "Epoch 24/50\n",
      "\u001B[1m391/391\u001B[0m \u001B[32m━━━━━━━━━━━━━━━━━━━━\u001B[0m\u001B[37m\u001B[0m \u001B[1m1s\u001B[0m 2ms/step - accuracy: 0.3107 - loss: 2.2119 - val_accuracy: 0.3254 - val_loss: 2.1657\n",
      "Epoch 25/50\n",
      "\u001B[1m391/391\u001B[0m \u001B[32m━━━━━━━━━━━━━━━━━━━━\u001B[0m\u001B[37m\u001B[0m \u001B[1m1s\u001B[0m 2ms/step - accuracy: 0.3193 - loss: 2.1977 - val_accuracy: 0.3234 - val_loss: 2.1704\n",
      "Epoch 26/50\n",
      "\u001B[1m391/391\u001B[0m \u001B[32m━━━━━━━━━━━━━━━━━━━━\u001B[0m\u001B[37m\u001B[0m \u001B[1m1s\u001B[0m 2ms/step - accuracy: 0.3188 - loss: 2.1953 - val_accuracy: 0.3335 - val_loss: 2.1477\n",
      "Epoch 27/50\n",
      "\u001B[1m391/391\u001B[0m \u001B[32m━━━━━━━━━━━━━━━━━━━━\u001B[0m\u001B[37m\u001B[0m \u001B[1m1s\u001B[0m 2ms/step - accuracy: 0.3216 - loss: 2.1905 - val_accuracy: 0.3301 - val_loss: 2.1480\n",
      "Epoch 28/50\n",
      "\u001B[1m391/391\u001B[0m \u001B[32m━━━━━━━━━━━━━━━━━━━━\u001B[0m\u001B[37m\u001B[0m \u001B[1m1s\u001B[0m 2ms/step - accuracy: 0.3224 - loss: 2.1870 - val_accuracy: 0.3264 - val_loss: 2.1870\n",
      "Epoch 29/50\n",
      "\u001B[1m391/391\u001B[0m \u001B[32m━━━━━━━━━━━━━━━━━━━━\u001B[0m\u001B[37m\u001B[0m \u001B[1m1s\u001B[0m 2ms/step - accuracy: 0.3251 - loss: 2.1708 - val_accuracy: 0.3369 - val_loss: 2.1507\n",
      "Epoch 30/50\n",
      "\u001B[1m391/391\u001B[0m \u001B[32m━━━━━━━━━━━━━━━━━━━━\u001B[0m\u001B[37m\u001B[0m \u001B[1m2s\u001B[0m 6ms/step - accuracy: 0.3269 - loss: 2.1713 - val_accuracy: 0.3439 - val_loss: 2.1234\n",
      "Epoch 31/50\n",
      "\u001B[1m391/391\u001B[0m \u001B[32m━━━━━━━━━━━━━━━━━━━━\u001B[0m\u001B[37m\u001B[0m \u001B[1m1s\u001B[0m 2ms/step - accuracy: 0.3278 - loss: 2.1609 - val_accuracy: 0.3338 - val_loss: 2.1580\n",
      "Epoch 32/50\n",
      "\u001B[1m391/391\u001B[0m \u001B[32m━━━━━━━━━━━━━━━━━━━━\u001B[0m\u001B[37m\u001B[0m \u001B[1m1s\u001B[0m 2ms/step - accuracy: 0.3233 - loss: 2.1729 - val_accuracy: 0.3414 - val_loss: 2.1285\n",
      "Epoch 33/50\n",
      "\u001B[1m391/391\u001B[0m \u001B[32m━━━━━━━━━━━━━━━━━━━━\u001B[0m\u001B[37m\u001B[0m \u001B[1m1s\u001B[0m 2ms/step - accuracy: 0.3314 - loss: 2.1571 - val_accuracy: 0.3475 - val_loss: 2.1159\n",
      "Epoch 34/50\n",
      "\u001B[1m391/391\u001B[0m \u001B[32m━━━━━━━━━━━━━━━━━━━━\u001B[0m\u001B[37m\u001B[0m \u001B[1m1s\u001B[0m 2ms/step - accuracy: 0.3361 - loss: 2.1446 - val_accuracy: 0.3464 - val_loss: 2.1181\n",
      "Epoch 35/50\n",
      "\u001B[1m391/391\u001B[0m \u001B[32m━━━━━━━━━━━━━━━━━━━━\u001B[0m\u001B[37m\u001B[0m \u001B[1m1s\u001B[0m 2ms/step - accuracy: 0.3339 - loss: 2.1458 - val_accuracy: 0.3511 - val_loss: 2.1033\n",
      "Epoch 36/50\n",
      "\u001B[1m391/391\u001B[0m \u001B[32m━━━━━━━━━━━━━━━━━━━━\u001B[0m\u001B[37m\u001B[0m \u001B[1m1s\u001B[0m 2ms/step - accuracy: 0.3418 - loss: 2.1278 - val_accuracy: 0.3361 - val_loss: 2.1724\n",
      "Epoch 37/50\n",
      "\u001B[1m391/391\u001B[0m \u001B[32m━━━━━━━━━━━━━━━━━━━━\u001B[0m\u001B[37m\u001B[0m \u001B[1m1s\u001B[0m 2ms/step - accuracy: 0.3408 - loss: 2.1231 - val_accuracy: 0.3493 - val_loss: 2.1071\n",
      "Epoch 38/50\n",
      "\u001B[1m391/391\u001B[0m \u001B[32m━━━━━━━━━━━━━━━━━━━━\u001B[0m\u001B[37m\u001B[0m \u001B[1m1s\u001B[0m 2ms/step - accuracy: 0.3366 - loss: 2.1345 - val_accuracy: 0.3458 - val_loss: 2.1034\n",
      "Epoch 39/50\n",
      "\u001B[1m391/391\u001B[0m \u001B[32m━━━━━━━━━━━━━━━━━━━━\u001B[0m\u001B[37m\u001B[0m \u001B[1m1s\u001B[0m 2ms/step - accuracy: 0.3355 - loss: 2.1341 - val_accuracy: 0.3560 - val_loss: 2.1075\n",
      "Epoch 40/50\n",
      "\u001B[1m391/391\u001B[0m \u001B[32m━━━━━━━━━━━━━━━━━━━━\u001B[0m\u001B[37m\u001B[0m \u001B[1m1s\u001B[0m 2ms/step - accuracy: 0.3475 - loss: 2.1098 - val_accuracy: 0.3622 - val_loss: 2.0609\n",
      "Epoch 41/50\n",
      "\u001B[1m391/391\u001B[0m \u001B[32m━━━━━━━━━━━━━━━━━━━━\u001B[0m\u001B[37m\u001B[0m \u001B[1m1s\u001B[0m 2ms/step - accuracy: 0.3408 - loss: 2.1159 - val_accuracy: 0.3622 - val_loss: 2.0542\n",
      "Epoch 42/50\n",
      "\u001B[1m391/391\u001B[0m \u001B[32m━━━━━━━━━━━━━━━━━━━━\u001B[0m\u001B[37m\u001B[0m \u001B[1m1s\u001B[0m 2ms/step - accuracy: 0.3385 - loss: 2.1193 - val_accuracy: 0.3588 - val_loss: 2.0833\n",
      "Epoch 43/50\n",
      "\u001B[1m391/391\u001B[0m \u001B[32m━━━━━━━━━━━━━━━━━━━━\u001B[0m\u001B[37m\u001B[0m \u001B[1m1s\u001B[0m 2ms/step - accuracy: 0.3458 - loss: 2.1024 - val_accuracy: 0.3597 - val_loss: 2.0904\n",
      "Epoch 44/50\n",
      "\u001B[1m391/391\u001B[0m \u001B[32m━━━━━━━━━━━━━━━━━━━━\u001B[0m\u001B[37m\u001B[0m \u001B[1m1s\u001B[0m 2ms/step - accuracy: 0.3484 - loss: 2.1038 - val_accuracy: 0.3649 - val_loss: 2.0529\n",
      "Epoch 45/50\n",
      "\u001B[1m391/391\u001B[0m \u001B[32m━━━━━━━━━━━━━━━━━━━━\u001B[0m\u001B[37m\u001B[0m \u001B[1m1s\u001B[0m 2ms/step - accuracy: 0.3481 - loss: 2.0953 - val_accuracy: 0.3579 - val_loss: 2.0722\n",
      "Epoch 46/50\n",
      "\u001B[1m391/391\u001B[0m \u001B[32m━━━━━━━━━━━━━━━━━━━━\u001B[0m\u001B[37m\u001B[0m \u001B[1m1s\u001B[0m 2ms/step - accuracy: 0.3500 - loss: 2.0901 - val_accuracy: 0.3651 - val_loss: 2.0717\n",
      "Epoch 47/50\n",
      "\u001B[1m391/391\u001B[0m \u001B[32m━━━━━━━━━━━━━━━━━━━━\u001B[0m\u001B[37m\u001B[0m \u001B[1m1s\u001B[0m 2ms/step - accuracy: 0.3509 - loss: 2.0898 - val_accuracy: 0.3647 - val_loss: 2.0489\n",
      "Epoch 48/50\n",
      "\u001B[1m391/391\u001B[0m \u001B[32m━━━━━━━━━━━━━━━━━━━━\u001B[0m\u001B[37m\u001B[0m \u001B[1m1s\u001B[0m 2ms/step - accuracy: 0.3487 - loss: 2.0878 - val_accuracy: 0.3675 - val_loss: 2.0483\n",
      "Epoch 49/50\n",
      "\u001B[1m391/391\u001B[0m \u001B[32m━━━━━━━━━━━━━━━━━━━━\u001B[0m\u001B[37m\u001B[0m \u001B[1m1s\u001B[0m 2ms/step - accuracy: 0.3503 - loss: 2.0894 - val_accuracy: 0.3408 - val_loss: 2.1273\n",
      "Epoch 50/50\n",
      "\u001B[1m391/391\u001B[0m \u001B[32m━━━━━━━━━━━━━━━━━━━━\u001B[0m\u001B[37m\u001B[0m \u001B[1m1s\u001B[0m 2ms/step - accuracy: 0.3579 - loss: 2.0743 - val_accuracy: 0.3585 - val_loss: 2.0821\n",
      "Epoch 1/50\n"
     ]
    },
    {
     "name": "stderr",
     "output_type": "stream",
     "text": [
      "'+ptx85' is not a recognized feature for this target (ignoring feature)\n",
      "'+ptx85' is not a recognized feature for this target (ignoring feature)\n",
      "'+ptx85' is not a recognized feature for this target (ignoring feature)\n"
     ]
    },
    {
     "name": "stdout",
     "output_type": "stream",
     "text": [
      "\u001B[1m373/391\u001B[0m \u001B[32m━━━━━━━━━━━━━━━━━━━\u001B[0m\u001B[37m━\u001B[0m \u001B[1m0s\u001B[0m 2ms/step - accuracy: 0.0476 - loss: 3.4131"
     ]
    },
    {
     "name": "stderr",
     "output_type": "stream",
     "text": [
      "'+ptx85' is not a recognized feature for this target (ignoring feature)\n",
      "'+ptx85' is not a recognized feature for this target (ignoring feature)\n",
      "'+ptx85' is not a recognized feature for this target (ignoring feature)\n"
     ]
    },
    {
     "name": "stdout",
     "output_type": "stream",
     "text": [
      "\u001B[1m391/391\u001B[0m \u001B[32m━━━━━━━━━━━━━━━━━━━━\u001B[0m\u001B[37m\u001B[0m \u001B[1m0s\u001B[0m 5ms/step - accuracy: 0.0478 - loss: 3.4005"
     ]
    },
    {
     "name": "stderr",
     "output_type": "stream",
     "text": [
      "'+ptx85' is not a recognized feature for this target (ignoring feature)\n",
      "'+ptx85' is not a recognized feature for this target (ignoring feature)\n",
      "'+ptx85' is not a recognized feature for this target (ignoring feature)\n"
     ]
    },
    {
     "name": "stdout",
     "output_type": "stream",
     "text": [
      "\u001B[1m391/391\u001B[0m \u001B[32m━━━━━━━━━━━━━━━━━━━━\u001B[0m\u001B[37m\u001B[0m \u001B[1m5s\u001B[0m 7ms/step - accuracy: 0.0478 - loss: 3.3998 - val_accuracy: 0.0500 - val_loss: 3.0069\n",
      "Epoch 2/50\n",
      "\u001B[1m 59/391\u001B[0m \u001B[32m━━━\u001B[0m\u001B[37m━━━━━━━━━━━━━━━━━\u001B[0m \u001B[1m0s\u001B[0m 2ms/step - accuracy: 0.0504 - loss: 3.0087"
     ]
    },
    {
     "name": "stderr",
     "output_type": "stream",
     "text": [
      "'+ptx85' is not a recognized feature for this target (ignoring feature)\n",
      "'+ptx85' is not a recognized feature for this target (ignoring feature)\n",
      "'+ptx85' is not a recognized feature for this target (ignoring feature)\n"
     ]
    },
    {
     "name": "stdout",
     "output_type": "stream",
     "text": [
      "\u001B[1m391/391\u001B[0m \u001B[32m━━━━━━━━━━━━━━━━━━━━\u001B[0m\u001B[37m\u001B[0m \u001B[1m1s\u001B[0m 2ms/step - accuracy: 0.0495 - loss: 3.0067 - val_accuracy: 0.0765 - val_loss: 2.9735\n",
      "Epoch 3/50\n",
      "\u001B[1m391/391\u001B[0m \u001B[32m━━━━━━━━━━━━━━━━━━━━\u001B[0m\u001B[37m\u001B[0m \u001B[1m1s\u001B[0m 2ms/step - accuracy: 0.0906 - loss: 2.9369 - val_accuracy: 0.1318 - val_loss: 2.8067\n",
      "Epoch 4/50\n",
      "\u001B[1m391/391\u001B[0m \u001B[32m━━━━━━━━━━━━━━━━━━━━\u001B[0m\u001B[37m\u001B[0m \u001B[1m1s\u001B[0m 2ms/step - accuracy: 0.1484 - loss: 2.7600 - val_accuracy: 0.1936 - val_loss: 2.6332\n",
      "Epoch 5/50\n",
      "\u001B[1m391/391\u001B[0m \u001B[32m━━━━━━━━━━━━━━━━━━━━\u001B[0m\u001B[37m\u001B[0m \u001B[1m1s\u001B[0m 2ms/step - accuracy: 0.1849 - loss: 2.6460 - val_accuracy: 0.2201 - val_loss: 2.5483\n",
      "Epoch 6/50\n",
      "\u001B[1m391/391\u001B[0m \u001B[32m━━━━━━━━━━━━━━━━━━━━\u001B[0m\u001B[37m\u001B[0m \u001B[1m1s\u001B[0m 2ms/step - accuracy: 0.2178 - loss: 2.5517 - val_accuracy: 0.2334 - val_loss: 2.4970\n",
      "Epoch 7/50\n",
      "\u001B[1m391/391\u001B[0m \u001B[32m━━━━━━━━━━━━━━━━━━━━\u001B[0m\u001B[37m\u001B[0m \u001B[1m1s\u001B[0m 2ms/step - accuracy: 0.2381 - loss: 2.4843 - val_accuracy: 0.2596 - val_loss: 2.4098\n",
      "Epoch 8/50\n",
      "\u001B[1m391/391\u001B[0m \u001B[32m━━━━━━━━━━━━━━━━━━━━\u001B[0m\u001B[37m\u001B[0m \u001B[1m1s\u001B[0m 2ms/step - accuracy: 0.2486 - loss: 2.4456 - val_accuracy: 0.2594 - val_loss: 2.4113\n",
      "Epoch 9/50\n",
      "\u001B[1m391/391\u001B[0m \u001B[32m━━━━━━━━━━━━━━━━━━━━\u001B[0m\u001B[37m\u001B[0m \u001B[1m1s\u001B[0m 2ms/step - accuracy: 0.2607 - loss: 2.4047 - val_accuracy: 0.2819 - val_loss: 2.3277\n",
      "Epoch 10/50\n",
      "\u001B[1m391/391\u001B[0m \u001B[32m━━━━━━━━━━━━━━━━━━━━\u001B[0m\u001B[37m\u001B[0m \u001B[1m1s\u001B[0m 2ms/step - accuracy: 0.2661 - loss: 2.3761 - val_accuracy: 0.2952 - val_loss: 2.2880\n",
      "Epoch 11/50\n",
      "\u001B[1m391/391\u001B[0m \u001B[32m━━━━━━━━━━━━━━━━━━━━\u001B[0m\u001B[37m\u001B[0m \u001B[1m1s\u001B[0m 2ms/step - accuracy: 0.2761 - loss: 2.3504 - val_accuracy: 0.2959 - val_loss: 2.2776\n",
      "Epoch 12/50\n",
      "\u001B[1m391/391\u001B[0m \u001B[32m━━━━━━━━━━━━━━━━━━━━\u001B[0m\u001B[37m\u001B[0m \u001B[1m2s\u001B[0m 6ms/step - accuracy: 0.2843 - loss: 2.3184 - val_accuracy: 0.3033 - val_loss: 2.2666\n",
      "Epoch 13/50\n",
      "\u001B[1m391/391\u001B[0m \u001B[32m━━━━━━━━━━━━━━━━━━━━\u001B[0m\u001B[37m\u001B[0m \u001B[1m1s\u001B[0m 2ms/step - accuracy: 0.2891 - loss: 2.3068 - val_accuracy: 0.3147 - val_loss: 2.2337\n",
      "Epoch 14/50\n",
      "\u001B[1m391/391\u001B[0m \u001B[32m━━━━━━━━━━━━━━━━━━━━\u001B[0m\u001B[37m\u001B[0m \u001B[1m1s\u001B[0m 2ms/step - accuracy: 0.2980 - loss: 2.2783 - val_accuracy: 0.3101 - val_loss: 2.2520\n",
      "Epoch 15/50\n",
      "\u001B[1m391/391\u001B[0m \u001B[32m━━━━━━━━━━━━━━━━━━━━\u001B[0m\u001B[37m\u001B[0m \u001B[1m1s\u001B[0m 2ms/step - accuracy: 0.2977 - loss: 2.2727 - val_accuracy: 0.2998 - val_loss: 2.2811\n",
      "Epoch 16/50\n",
      "\u001B[1m391/391\u001B[0m \u001B[32m━━━━━━━━━━━━━━━━━━━━\u001B[0m\u001B[37m\u001B[0m \u001B[1m1s\u001B[0m 2ms/step - accuracy: 0.3044 - loss: 2.2494 - val_accuracy: 0.3117 - val_loss: 2.2466\n",
      "Epoch 17/50\n",
      "\u001B[1m391/391\u001B[0m \u001B[32m━━━━━━━━━━━━━━━━━━━━\u001B[0m\u001B[37m\u001B[0m \u001B[1m1s\u001B[0m 2ms/step - accuracy: 0.3099 - loss: 2.2295 - val_accuracy: 0.3276 - val_loss: 2.1858\n",
      "Epoch 18/50\n",
      "\u001B[1m391/391\u001B[0m \u001B[32m━━━━━━━━━━━━━━━━━━━━\u001B[0m\u001B[37m\u001B[0m \u001B[1m1s\u001B[0m 2ms/step - accuracy: 0.3127 - loss: 2.2287 - val_accuracy: 0.3329 - val_loss: 2.1609\n",
      "Epoch 19/50\n",
      "\u001B[1m391/391\u001B[0m \u001B[32m━━━━━━━━━━━━━━━━━━━━\u001B[0m\u001B[37m\u001B[0m \u001B[1m1s\u001B[0m 2ms/step - accuracy: 0.3175 - loss: 2.2230 - val_accuracy: 0.3357 - val_loss: 2.1484\n",
      "Epoch 20/50\n",
      "\u001B[1m391/391\u001B[0m \u001B[32m━━━━━━━━━━━━━━━━━━━━\u001B[0m\u001B[37m\u001B[0m \u001B[1m1s\u001B[0m 2ms/step - accuracy: 0.3201 - loss: 2.2058 - val_accuracy: 0.3388 - val_loss: 2.1586\n",
      "Epoch 21/50\n",
      "\u001B[1m391/391\u001B[0m \u001B[32m━━━━━━━━━━━━━━━━━━━━\u001B[0m\u001B[37m\u001B[0m \u001B[1m1s\u001B[0m 2ms/step - accuracy: 0.3272 - loss: 2.1784 - val_accuracy: 0.3438 - val_loss: 2.1230\n",
      "Epoch 22/50\n",
      "\u001B[1m391/391\u001B[0m \u001B[32m━━━━━━━━━━━━━━━━━━━━\u001B[0m\u001B[37m\u001B[0m \u001B[1m1s\u001B[0m 2ms/step - accuracy: 0.3295 - loss: 2.1735 - val_accuracy: 0.3395 - val_loss: 2.1350\n",
      "Epoch 23/50\n",
      "\u001B[1m391/391\u001B[0m \u001B[32m━━━━━━━━━━━━━━━━━━━━\u001B[0m\u001B[37m\u001B[0m \u001B[1m1s\u001B[0m 2ms/step - accuracy: 0.3348 - loss: 2.1675 - val_accuracy: 0.3474 - val_loss: 2.1238\n",
      "Epoch 24/50\n",
      "\u001B[1m391/391\u001B[0m \u001B[32m━━━━━━━━━━━━━━━━━━━━\u001B[0m\u001B[37m\u001B[0m \u001B[1m1s\u001B[0m 2ms/step - accuracy: 0.3317 - loss: 2.1636 - val_accuracy: 0.3406 - val_loss: 2.1315\n",
      "Epoch 25/50\n",
      "\u001B[1m391/391\u001B[0m \u001B[32m━━━━━━━━━━━━━━━━━━━━\u001B[0m\u001B[37m\u001B[0m \u001B[1m1s\u001B[0m 2ms/step - accuracy: 0.3301 - loss: 2.1629 - val_accuracy: 0.3440 - val_loss: 2.1130\n",
      "Epoch 26/50\n",
      "\u001B[1m391/391\u001B[0m \u001B[32m━━━━━━━━━━━━━━━━━━━━\u001B[0m\u001B[37m\u001B[0m \u001B[1m1s\u001B[0m 2ms/step - accuracy: 0.3337 - loss: 2.1457 - val_accuracy: 0.3541 - val_loss: 2.0899\n",
      "Epoch 27/50\n",
      "\u001B[1m391/391\u001B[0m \u001B[32m━━━━━━━━━━━━━━━━━━━━\u001B[0m\u001B[37m\u001B[0m \u001B[1m1s\u001B[0m 2ms/step - accuracy: 0.3447 - loss: 2.1339 - val_accuracy: 0.3588 - val_loss: 2.0614\n",
      "Epoch 28/50\n",
      "\u001B[1m391/391\u001B[0m \u001B[32m━━━━━━━━━━━━━━━━━━━━\u001B[0m\u001B[37m\u001B[0m \u001B[1m1s\u001B[0m 2ms/step - accuracy: 0.3412 - loss: 2.1238 - val_accuracy: 0.3512 - val_loss: 2.0914\n",
      "Epoch 29/50\n",
      "\u001B[1m391/391\u001B[0m \u001B[32m━━━━━━━━━━━━━━━━━━━━\u001B[0m\u001B[37m\u001B[0m \u001B[1m1s\u001B[0m 2ms/step - accuracy: 0.3477 - loss: 2.1163 - val_accuracy: 0.3542 - val_loss: 2.0903\n",
      "Epoch 30/50\n",
      "\u001B[1m391/391\u001B[0m \u001B[32m━━━━━━━━━━━━━━━━━━━━\u001B[0m\u001B[37m\u001B[0m \u001B[1m1s\u001B[0m 2ms/step - accuracy: 0.3467 - loss: 2.1164 - val_accuracy: 0.3609 - val_loss: 2.0767\n",
      "Epoch 31/50\n",
      "\u001B[1m391/391\u001B[0m \u001B[32m━━━━━━━━━━━━━━━━━━━━\u001B[0m\u001B[37m\u001B[0m \u001B[1m1s\u001B[0m 2ms/step - accuracy: 0.3458 - loss: 2.1057 - val_accuracy: 0.3596 - val_loss: 2.0694\n",
      "Epoch 32/50\n",
      "\u001B[1m391/391\u001B[0m \u001B[32m━━━━━━━━━━━━━━━━━━━━\u001B[0m\u001B[37m\u001B[0m \u001B[1m1s\u001B[0m 2ms/step - accuracy: 0.3484 - loss: 2.1054 - val_accuracy: 0.3639 - val_loss: 2.0587\n",
      "Epoch 33/50\n",
      "\u001B[1m391/391\u001B[0m \u001B[32m━━━━━━━━━━━━━━━━━━━━\u001B[0m\u001B[37m\u001B[0m \u001B[1m1s\u001B[0m 2ms/step - accuracy: 0.3485 - loss: 2.0949 - val_accuracy: 0.3624 - val_loss: 2.0544\n",
      "Epoch 34/50\n",
      "\u001B[1m391/391\u001B[0m \u001B[32m━━━━━━━━━━━━━━━━━━━━\u001B[0m\u001B[37m\u001B[0m \u001B[1m1s\u001B[0m 2ms/step - accuracy: 0.3574 - loss: 2.0734 - val_accuracy: 0.3697 - val_loss: 2.0418\n",
      "Epoch 35/50\n",
      "\u001B[1m391/391\u001B[0m \u001B[32m━━━━━━━━━━━━━━━━━━━━\u001B[0m\u001B[37m\u001B[0m \u001B[1m1s\u001B[0m 2ms/step - accuracy: 0.3574 - loss: 2.0772 - val_accuracy: 0.3623 - val_loss: 2.0487\n",
      "Epoch 36/50\n",
      "\u001B[1m391/391\u001B[0m \u001B[32m━━━━━━━━━━━━━━━━━━━━\u001B[0m\u001B[37m\u001B[0m \u001B[1m1s\u001B[0m 2ms/step - accuracy: 0.3586 - loss: 2.0776 - val_accuracy: 0.3749 - val_loss: 2.0207\n",
      "Epoch 37/50\n",
      "\u001B[1m391/391\u001B[0m \u001B[32m━━━━━━━━━━━━━━━━━━━━\u001B[0m\u001B[37m\u001B[0m \u001B[1m1s\u001B[0m 2ms/step - accuracy: 0.3590 - loss: 2.0779 - val_accuracy: 0.3750 - val_loss: 2.0113\n",
      "Epoch 38/50\n",
      "\u001B[1m391/391\u001B[0m \u001B[32m━━━━━━━━━━━━━━━━━━━━\u001B[0m\u001B[37m\u001B[0m \u001B[1m1s\u001B[0m 2ms/step - accuracy: 0.3579 - loss: 2.0744 - val_accuracy: 0.3641 - val_loss: 2.0524\n",
      "Epoch 39/50\n",
      "\u001B[1m391/391\u001B[0m \u001B[32m━━━━━━━━━━━━━━━━━━━━\u001B[0m\u001B[37m\u001B[0m \u001B[1m1s\u001B[0m 2ms/step - accuracy: 0.3669 - loss: 2.0538 - val_accuracy: 0.3704 - val_loss: 2.0398\n",
      "Epoch 40/50\n",
      "\u001B[1m391/391\u001B[0m \u001B[32m━━━━━━━━━━━━━━━━━━━━\u001B[0m\u001B[37m\u001B[0m \u001B[1m1s\u001B[0m 2ms/step - accuracy: 0.3617 - loss: 2.0464 - val_accuracy: 0.3768 - val_loss: 1.9949\n",
      "Epoch 41/50\n",
      "\u001B[1m391/391\u001B[0m \u001B[32m━━━━━━━━━━━━━━━━━━━━\u001B[0m\u001B[37m\u001B[0m \u001B[1m1s\u001B[0m 2ms/step - accuracy: 0.3633 - loss: 2.0441 - val_accuracy: 0.3732 - val_loss: 2.0153\n",
      "Epoch 42/50\n",
      "\u001B[1m391/391\u001B[0m \u001B[32m━━━━━━━━━━━━━━━━━━━━\u001B[0m\u001B[37m\u001B[0m \u001B[1m1s\u001B[0m 2ms/step - accuracy: 0.3618 - loss: 2.0612 - val_accuracy: 0.3899 - val_loss: 1.9739\n",
      "Epoch 43/50\n",
      "\u001B[1m391/391\u001B[0m \u001B[32m━━━━━━━━━━━━━━━━━━━━\u001B[0m\u001B[37m\u001B[0m \u001B[1m1s\u001B[0m 2ms/step - accuracy: 0.3665 - loss: 2.0408 - val_accuracy: 0.3798 - val_loss: 1.9998\n",
      "Epoch 44/50\n",
      "\u001B[1m391/391\u001B[0m \u001B[32m━━━━━━━━━━━━━━━━━━━━\u001B[0m\u001B[37m\u001B[0m \u001B[1m1s\u001B[0m 2ms/step - accuracy: 0.3679 - loss: 2.0420 - val_accuracy: 0.3877 - val_loss: 1.9623\n",
      "Epoch 45/50\n",
      "\u001B[1m391/391\u001B[0m \u001B[32m━━━━━━━━━━━━━━━━━━━━\u001B[0m\u001B[37m\u001B[0m \u001B[1m1s\u001B[0m 2ms/step - accuracy: 0.3687 - loss: 2.0441 - val_accuracy: 0.3913 - val_loss: 1.9431\n",
      "Epoch 46/50\n",
      "\u001B[1m391/391\u001B[0m \u001B[32m━━━━━━━━━━━━━━━━━━━━\u001B[0m\u001B[37m\u001B[0m \u001B[1m1s\u001B[0m 2ms/step - accuracy: 0.3702 - loss: 2.0320 - val_accuracy: 0.3789 - val_loss: 2.0147\n",
      "Epoch 47/50\n",
      "\u001B[1m391/391\u001B[0m \u001B[32m━━━━━━━━━━━━━━━━━━━━\u001B[0m\u001B[37m\u001B[0m \u001B[1m1s\u001B[0m 2ms/step - accuracy: 0.3717 - loss: 2.0260 - val_accuracy: 0.3894 - val_loss: 1.9840\n",
      "Epoch 48/50\n",
      "\u001B[1m391/391\u001B[0m \u001B[32m━━━━━━━━━━━━━━━━━━━━\u001B[0m\u001B[37m\u001B[0m \u001B[1m1s\u001B[0m 2ms/step - accuracy: 0.3667 - loss: 2.0327 - val_accuracy: 0.3873 - val_loss: 1.9829\n",
      "Epoch 49/50\n",
      "\u001B[1m391/391\u001B[0m \u001B[32m━━━━━━━━━━━━━━━━━━━━\u001B[0m\u001B[37m\u001B[0m \u001B[1m1s\u001B[0m 2ms/step - accuracy: 0.3752 - loss: 2.0145 - val_accuracy: 0.3865 - val_loss: 1.9807\n",
      "Epoch 50/50\n",
      "\u001B[1m391/391\u001B[0m \u001B[32m━━━━━━━━━━━━━━━━━━━━\u001B[0m\u001B[37m\u001B[0m \u001B[1m2s\u001B[0m 5ms/step - accuracy: 0.3740 - loss: 2.0115 - val_accuracy: 0.3877 - val_loss: 1.9810\n"
     ]
    }
   ],
   "execution_count": 29
  },
  {
   "metadata": {
    "ExecuteTime": {
     "end_time": "2025-08-17T11:45:15.775127Z",
     "start_time": "2025-08-17T11:45:15.157756Z"
    }
   },
   "cell_type": "code",
   "source": [
    "\n",
    "def pltHistory(data, models, max=1):\n",
    "    x_train_arr, y_train, x_test_arr, y_test = data\n",
    "    \n",
    "    # Plot training and testing accuracy and loss\n",
    "    for i in range(max):\n",
    "        plt.plot(histories[i].history['accuracy'], label='Training Accuracy')\n",
    "        plt.plot(histories[i].history['val_accuracy'], label='Testing Accuracy')\n",
    "        plt.legend()\n",
    "        plt.show()\n",
    "    \n",
    "        # Evaluate the model on the test set\n",
    "        test_loss, test_acc = models[i].evaluate(x_test_arr[i], y_test)\n",
    "        print(f'Test accuracy[{i}]: {test_acc:.2f}')\n",
    "        \n",
    "pltHistory(data, models, 1)"
   ],
   "id": "425090e57d1d4c2e",
   "outputs": [
    {
     "data": {
      "text/plain": [
       "<Figure size 640x480 with 1 Axes>"
      ],
      "image/png": "[encoded data removed]"
     },
     "metadata": {},
     "output_type": "display_data"
    },
    {
     "name": "stdout",
     "output_type": "stream",
     "text": [
      "\u001B[1m101/313\u001B[0m \u001B[32m━━━━━━\u001B[0m\u001B[37m━━━━━━━━━━━━━━\u001B[0m \u001B[1m0s\u001B[0m 1ms/step - accuracy: 0.3590 - loss: 2.0941"
     ]
    },
    {
     "name": "stderr",
     "output_type": "stream",
     "text": [
      "'+ptx85' is not a recognized feature for this target (ignoring feature)\n",
      "'+ptx85' is not a recognized feature for this target (ignoring feature)\n",
      "'+ptx85' is not a recognized feature for this target (ignoring feature)\n"
     ]
    },
    {
     "name": "stdout",
     "output_type": "stream",
     "text": [
      "\u001B[1m313/313\u001B[0m \u001B[32m━━━━━━━━━━━━━━━━━━━━\u001B[0m\u001B[37m\u001B[0m \u001B[1m1s\u001B[0m 999us/step - accuracy: 0.3607 - loss: 2.0883\n",
      "Test accuracy[0]: 0.36\n"
     ]
    }
   ],
   "execution_count": 30
  },
  {
   "metadata": {},
   "cell_type": "markdown",
   "source": [
    "# CNN-Combined: combined (full-image) model\n",
    "- Defines a bigger CNN model that expects the full image (INPUT_SHAPE x INPUT_SHAPE x 3).\n",
    "- Uses a mix of full-size and split-size layers to align with how you’ll merge weights from the smaller models.\n",
    "- Ends with NUM_CLASSES output units and softmax."
   ],
   "id": "ea88fdd8d52b5989"
  },
  {
   "metadata": {
    "ExecuteTime": {
     "end_time": "2025-08-17T11:45:15.937813Z",
     "start_time": "2025-08-17T11:45:15.793342Z"
    }
   },
   "cell_type": "code",
   "source": [
    "def create_cnn_concatenated(input_shape=(224, 224, 3), num_classes=NUM_CLASSES, num_splits=2):\n",
    "    CONV1_FILTERS = 64\n",
    "    CONV2_FILTERS = 32\n",
    "\n",
    "    DENSE1_SIZE = 64\n",
    "    DENSE2_SIZE = 32 # 32 for other results\n",
    "\n",
    "    conv1_f = CONV1_FILTERS // num_splits\n",
    "    conv2_f = CONV2_FILTERS // num_splits\n",
    "    dense1_s = DENSE1_SIZE // num_splits\n",
    "    dense2_s = DENSE2_SIZE // num_splits\n",
    "    # [48,128,96,192,64]\n",
    "\n",
    "    model = Sequential()\n",
    "    model.add(Conv2D(CONV1_FILTERS, (4, 4), padding='same', input_shape=(INPUT_SHAPE, INPUT_SHAPE, 3), trainable=True))\n",
    "    model.add(MaxPooling2D(pool_size=(2, 2), strides=2))\n",
    "    model.add(Activation('relu'))\n",
    "    model.add(Dropout(0.25))\n",
    "\n",
    "    model.add(Conv2D(conv1_f, (2, 2), padding='same', trainable=True))\n",
    "    model.add(Activation('relu'))\n",
    "    model.add(Dropout(0.25))\n",
    "\n",
    "    model.add(Conv2D(CONV2_FILTERS, (3, 3), padding='same', trainable=True))\n",
    "    model.add(Activation('relu'))\n",
    "    model.add(Dropout(0.25))\n",
    "\n",
    "    model.add(Conv2D(conv2_f, (3, 3), padding='same', trainable=True)) #conv2_f\n",
    "    model.add(Activation('relu'))\n",
    "    model.add(MaxPooling2D(pool_size=(2, 2), strides=2))\n",
    "    model.add(Dropout(0.15))\n",
    "\n",
    "    model.add(Flatten())\n",
    "    model.add(Dense(DENSE1_SIZE, trainable=True) )\n",
    "    model.add(Activation('relu'))\n",
    "    model.add(Dropout(0.25))\n",
    "\n",
    "    model.add(Dense(DENSE2_SIZE, trainable=True))\n",
    "    model.add(Activation('tanh'))\n",
    "    # model.add(Dropout(0.25))\n",
    "    model.add(Dense(NUM_CLASSES, activation='softmax'))\n",
    "\n",
    "    return model\n",
    "\n",
    "model = create_cnn_concatenated(input_shape, num_splits=NUM_SPLITS)\n",
    "\n",
    "# Compile the model\n",
    "model.compile(optimizer=Adam(),#learning_rate=0.01 # 0.001\n",
    "              loss='categorical_crossentropy',\n",
    "              metrics=['accuracy'])\n",
    "\n",
    "ref_model = create_cnn_concatenated(input_shape, num_splits=NUM_SPLITS)\n",
    "\n",
    "# Compile the model\n",
    "ref_model.compile(optimizer=Adam(),#learning_rate=0.01 # 0.001\n",
    "              loss='categorical_crossentropy',\n",
    "              metrics=['accuracy'])\n",
    "\n",
    "# Print layer index along with the existing summary\n",
    "summary_str = []\n",
    "model.summary(print_fn=lambda x: summary_str.append(x))\n",
    "summary_str = summary_str[0].split('\\n')\n",
    "i = 0\n",
    "for x, line in enumerate(summary_str):\n",
    "        if 'None' in line:\n",
    "            if i < 10:\n",
    "                print(f\" {i} {line}\")\n",
    "            else:\n",
    "                print(f\"{i} {line}\")\n",
    "            i+=1\n",
    "        elif '─────────' in line:\n",
    "            print(f\"───{line}\")\n",
    "        else:\n",
    "            print(f\"   {line}\")\n"
   ],
   "id": "ace325617697e16d",
   "outputs": [
    {
     "data": {
      "text/plain": [],
      "text/html": [
       "<pre style=\"white-space:pre;overflow-x:auto;line-height:normal;font-family:Menlo,'DejaVu Sans Mono',consolas,'Courier New',monospace\"></pre>\n"
      ]
     },
     "metadata": {},
     "output_type": "display_data"
    },
    {
     "name": "stdout",
     "output_type": "stream",
     "text": [
      "   Model: \"sequential_6\"\n",
      "   ┏━━━━━━━━━━━━━━━━━━━━━━━━━━━━━━━━━┳━━━━━━━━━━━━━━━━━━━━━━━━┳━━━━━━━━━━━━━━━┓\n",
      "   ┃ Layer (type)                    ┃ Output Shape           ┃       Param # ┃\n",
      "   ┡━━━━━━━━━━━━━━━━━━━━━━━━━━━━━━━━━╇━━━━━━━━━━━━━━━━━━━━━━━━╇━━━━━━━━━━━━━━━┩\n",
      " 0 │ conv2d_24 (Conv2D)              │ (None, 32, 32, 64)     │         3,136 │\n",
      "───├─────────────────────────────────┼────────────────────────┼───────────────┤\n",
      " 1 │ max_pooling2d_12 (MaxPooling2D) │ (None, 16, 16, 64)     │             0 │\n",
      "───├─────────────────────────────────┼────────────────────────┼───────────────┤\n",
      " 2 │ activation_36 (Activation)      │ (None, 16, 16, 64)     │             0 │\n",
      "───├─────────────────────────────────┼────────────────────────┼───────────────┤\n",
      " 3 │ dropout_30 (Dropout)            │ (None, 16, 16, 64)     │             0 │\n",
      "───├─────────────────────────────────┼────────────────────────┼───────────────┤\n",
      " 4 │ conv2d_25 (Conv2D)              │ (None, 16, 16, 32)     │         8,224 │\n",
      "───├─────────────────────────────────┼────────────────────────┼───────────────┤\n",
      " 5 │ activation_37 (Activation)      │ (None, 16, 16, 32)     │             0 │\n",
      "───├─────────────────────────────────┼────────────────────────┼───────────────┤\n",
      " 6 │ dropout_31 (Dropout)            │ (None, 16, 16, 32)     │             0 │\n",
      "───├─────────────────────────────────┼────────────────────────┼───────────────┤\n",
      " 7 │ conv2d_26 (Conv2D)              │ (None, 16, 16, 32)     │         9,248 │\n",
      "───├─────────────────────────────────┼────────────────────────┼───────────────┤\n",
      " 8 │ activation_38 (Activation)      │ (None, 16, 16, 32)     │             0 │\n",
      "───├─────────────────────────────────┼────────────────────────┼───────────────┤\n",
      " 9 │ dropout_32 (Dropout)            │ (None, 16, 16, 32)     │             0 │\n",
      "───├─────────────────────────────────┼────────────────────────┼───────────────┤\n",
      "10 │ conv2d_27 (Conv2D)              │ (None, 16, 16, 16)     │         4,624 │\n",
      "───├─────────────────────────────────┼────────────────────────┼───────────────┤\n",
      "11 │ activation_39 (Activation)      │ (None, 16, 16, 16)     │             0 │\n",
      "───├─────────────────────────────────┼────────────────────────┼───────────────┤\n",
      "12 │ max_pooling2d_13 (MaxPooling2D) │ (None, 8, 8, 16)       │             0 │\n",
      "───├─────────────────────────────────┼────────────────────────┼───────────────┤\n",
      "13 │ dropout_33 (Dropout)            │ (None, 8, 8, 16)       │             0 │\n",
      "───├─────────────────────────────────┼────────────────────────┼───────────────┤\n",
      "14 │ flatten_6 (Flatten)             │ (None, 1024)           │             0 │\n",
      "───├─────────────────────────────────┼────────────────────────┼───────────────┤\n",
      "15 │ dense_18 (Dense)                │ (None, 64)             │        65,600 │\n",
      "───├─────────────────────────────────┼────────────────────────┼───────────────┤\n",
      "16 │ activation_40 (Activation)      │ (None, 64)             │             0 │\n",
      "───├─────────────────────────────────┼────────────────────────┼───────────────┤\n",
      "17 │ dropout_34 (Dropout)            │ (None, 64)             │             0 │\n",
      "───├─────────────────────────────────┼────────────────────────┼───────────────┤\n",
      "18 │ dense_19 (Dense)                │ (None, 32)             │         2,080 │\n",
      "───├─────────────────────────────────┼────────────────────────┼───────────────┤\n",
      "19 │ activation_41 (Activation)      │ (None, 32)             │             0 │\n",
      "───├─────────────────────────────────┼────────────────────────┼───────────────┤\n",
      "20 │ dense_20 (Dense)                │ (None, 100)            │         3,300 │\n",
      "───└─────────────────────────────────┴────────────────────────┴───────────────┘\n",
      "    Total params: 96,212 (375.83 KB)\n",
      "    Trainable params: 96,212 (375.83 KB)\n",
      "    Non-trainable params: 0 (0.00 B)\n",
      "   \n"
     ]
    }
   ],
   "execution_count": 31
  },
  {
   "metadata": {},
   "cell_type": "markdown",
   "source": [
    "# Merge weights from split models into the combined model\n",
    "- Gathers weights from each trained split model.\n",
    "- For selected convolutional layers (layes_to_merge = [0, 2, 4, 6]), concatenates kernels along specific axes (layer_to_axis = [3, 2, 3, 2]) to “stitch” features together across the channel dimension. This is how you combine “left” and “right” feature extractors into one.\n",
    "- For selected dense layers (layes_to_concat = [10, 12]), averages weights to unify their learned representations.\n",
    "- Sets merged weights into the full model and returns it."
   ],
   "id": "e3253fe3bd2c88ab"
  },
  {
   "metadata": {
    "ExecuteTime": {
     "end_time": "2025-08-17T11:45:15.977460Z",
     "start_time": "2025-08-17T11:45:15.955398Z"
    }
   },
   "cell_type": "code",
   "source": [
    "w1 = models[0].get_weights()\n",
    "\n",
    "w = model.get_weights()\n",
    "\n",
    "def concatenateModels(models, model, padding=0):\n",
    "    ws = []\n",
    "    num_models = len(models)\n",
    "    \n",
    "    layes_to_merge  = [0,2,4,6] #,8,10] # + 8\n",
    "    layer_to_axis   = [3,2,3,2] #,0, 1] # + 0\n",
    "\n",
    "    # show\n",
    "    for i in range(num_models):\n",
    "        ws.append(models[i].get_weights())\n",
    "\n",
    "        if i==0:\n",
    "            for l in ws[i]:\n",
    "                print(\"Raw: \", l.shape)\n",
    "            for l in w:\n",
    "                print(\"Merged: \", l.shape)\n",
    "    # merge\n",
    "    for i in range(num_models):\n",
    "        for ij, j in enumerate(layes_to_merge):\n",
    "            if i == 0:\n",
    "                w[j] = np.array(ws[i][j])\n",
    "            else:\n",
    "                w[j] = np.concatenate((w[j], ws[i][j]), axis=layer_to_axis[ij])\n",
    "\n",
    "    # concatenate with averages\n",
    "    layes_to_concat = [10, 12] # + 8\n",
    "    for i in range(num_models):\n",
    "        for ij, j in enumerate(layes_to_concat):\n",
    "            if i == 0:\n",
    "                w[j] = np.array(ws[i][j])\n",
    "            else:\n",
    "                w[j] = np.average([w[j], ws[i][j]], axis=0)\n",
    "\n",
    "    model.set_weights(w)\n",
    "    \n",
    "    return model\n",
    "        \n",
    "        \n",
    "concatenateModels(models, model, 1)\n"
   ],
   "id": "2a8c4a6f672d19d2",
   "outputs": [
    {
     "name": "stdout",
     "output_type": "stream",
     "text": [
      "Raw:  (4, 4, 3, 32)\n",
      "Raw:  (32,)\n",
      "Raw:  (2, 2, 32, 32)\n",
      "Raw:  (32,)\n",
      "Raw:  (3, 3, 32, 16)\n",
      "Raw:  (16,)\n",
      "Raw:  (3, 3, 16, 16)\n",
      "Raw:  (16,)\n",
      "Raw:  (512, 64)\n",
      "Raw:  (64,)\n",
      "Raw:  (64, 32)\n",
      "Raw:  (32,)\n",
      "Raw:  (32, 100)\n",
      "Raw:  (100,)\n",
      "Merged:  (4, 4, 3, 64)\n",
      "Merged:  (64,)\n",
      "Merged:  (2, 2, 64, 32)\n",
      "Merged:  (32,)\n",
      "Merged:  (3, 3, 32, 32)\n",
      "Merged:  (32,)\n",
      "Merged:  (3, 3, 32, 16)\n",
      "Merged:  (16,)\n",
      "Merged:  (1024, 64)\n",
      "Merged:  (64,)\n",
      "Merged:  (64, 32)\n",
      "Merged:  (32,)\n",
      "Merged:  (32, 100)\n",
      "Merged:  (100,)\n"
     ]
    },
    {
     "data": {
      "text/plain": [
       "<Sequential name=sequential_6, built=True>"
      ]
     },
     "execution_count": 32,
     "metadata": {},
     "output_type": "execute_result"
    }
   ],
   "execution_count": 32
  },
  {
   "metadata": {},
   "cell_type": "markdown",
   "source": [
    "# Train + evaluate the merged model on full images\n",
    "Evaluates the newly merged model on cifar10."
   ],
   "id": "86fbf819587f888b"
  },
  {
   "metadata": {
    "ExecuteTime": {
     "end_time": "2025-08-17T11:45:57.295782Z",
     "start_time": "2025-08-17T11:45:16.033440Z"
    }
   },
   "cell_type": "code",
   "source": [
    "\n",
    "model.evaluate(X_test, y_test)\n",
    "callback = tf.keras.callbacks.EarlyStopping(monitor='loss', patience=3)\n",
    "\n",
    "history = model.fit(X_train, y_train, epochs=50, batch_size=128, validation_data=(X_test, y_test), callbacks=[callback])\n",
    "\n",
    "model.evaluate(X_train, y_train)\n",
    "model.evaluate(X_test, y_test)"
   ],
   "id": "7c600de3cd768531",
   "outputs": [
    {
     "name": "stdout",
     "output_type": "stream",
     "text": [
      "\u001B[1m 89/313\u001B[0m \u001B[32m━━━━━\u001B[0m\u001B[37m━━━━━━━━━━━━━━━\u001B[0m \u001B[1m0s\u001B[0m 1ms/step - accuracy: 0.0773 - loss: 3.3353"
     ]
    },
    {
     "name": "stderr",
     "output_type": "stream",
     "text": [
      "'+ptx85' is not a recognized feature for this target (ignoring feature)\n",
      "'+ptx85' is not a recognized feature for this target (ignoring feature)\n",
      "'+ptx85' is not a recognized feature for this target (ignoring feature)\n"
     ]
    },
    {
     "name": "stdout",
     "output_type": "stream",
     "text": [
      "\u001B[1m313/313\u001B[0m \u001B[32m━━━━━━━━━━━━━━━━━━━━\u001B[0m\u001B[37m\u001B[0m \u001B[1m1s\u001B[0m 2ms/step - accuracy: 0.0830 - loss: 3.3256\n"
     ]
    },
    {
     "name": "stderr",
     "output_type": "stream",
     "text": [
      "'+ptx85' is not a recognized feature for this target (ignoring feature)\n",
      "'+ptx85' is not a recognized feature for this target (ignoring feature)\n",
      "'+ptx85' is not a recognized feature for this target (ignoring feature)\n"
     ]
    },
    {
     "name": "stdout",
     "output_type": "stream",
     "text": [
      "Epoch 1/50\n"
     ]
    },
    {
     "name": "stderr",
     "output_type": "stream",
     "text": [
      "'+ptx85' is not a recognized feature for this target (ignoring feature)\n",
      "'+ptx85' is not a recognized feature for this target (ignoring feature)\n",
      "'+ptx85' is not a recognized feature for this target (ignoring feature)\n"
     ]
    },
    {
     "name": "stdout",
     "output_type": "stream",
     "text": [
      "\u001B[1m375/391\u001B[0m \u001B[32m━━━━━━━━━━━━━━━━━━━\u001B[0m\u001B[37m━\u001B[0m \u001B[1m0s\u001B[0m 2ms/step - accuracy: 0.2923 - loss: 2.0190"
     ]
    },
    {
     "name": "stderr",
     "output_type": "stream",
     "text": [
      "'+ptx85' is not a recognized feature for this target (ignoring feature)\n",
      "'+ptx85' is not a recognized feature for this target (ignoring feature)\n",
      "'+ptx85' is not a recognized feature for this target (ignoring feature)\n"
     ]
    },
    {
     "name": "stdout",
     "output_type": "stream",
     "text": [
      "\u001B[1m391/391\u001B[0m \u001B[32m━━━━━━━━━━━━━━━━━━━━\u001B[0m\u001B[37m\u001B[0m \u001B[1m5s\u001B[0m 7ms/step - accuracy: 0.2965 - loss: 2.0049 - val_accuracy: 0.5330 - val_loss: 1.2962\n",
      "Epoch 2/50\n",
      "\u001B[1m  1/391\u001B[0m \u001B[37m━━━━━━━━━━━━━━━━━━━━\u001B[0m \u001B[1m5s\u001B[0m 14ms/step - accuracy: 0.4766 - loss: 1.4883"
     ]
    },
    {
     "name": "stderr",
     "output_type": "stream",
     "text": [
      "'+ptx85' is not a recognized feature for this target (ignoring feature)\n",
      "'+ptx85' is not a recognized feature for this target (ignoring feature)\n",
      "'+ptx85' is not a recognized feature for this target (ignoring feature)\n"
     ]
    },
    {
     "name": "stdout",
     "output_type": "stream",
     "text": [
      "\u001B[1m391/391\u001B[0m \u001B[32m━━━━━━━━━━━━━━━━━━━━\u001B[0m\u001B[37m\u001B[0m \u001B[1m1s\u001B[0m 2ms/step - accuracy: 0.5037 - loss: 1.3659 - val_accuracy: 0.5911 - val_loss: 1.1514\n",
      "Epoch 3/50\n",
      "\u001B[1m391/391\u001B[0m \u001B[32m━━━━━━━━━━━━━━━━━━━━\u001B[0m\u001B[37m\u001B[0m \u001B[1m1s\u001B[0m 2ms/step - accuracy: 0.5562 - loss: 1.2313 - val_accuracy: 0.6070 - val_loss: 1.1106\n",
      "Epoch 4/50\n",
      "\u001B[1m391/391\u001B[0m \u001B[32m━━━━━━━━━━━━━━━━━━━━\u001B[0m\u001B[37m\u001B[0m \u001B[1m1s\u001B[0m 2ms/step - accuracy: 0.5855 - loss: 1.1712 - val_accuracy: 0.6496 - val_loss: 0.9868\n",
      "Epoch 5/50\n",
      "\u001B[1m391/391\u001B[0m \u001B[32m━━━━━━━━━━━━━━━━━━━━\u001B[0m\u001B[37m\u001B[0m \u001B[1m1s\u001B[0m 2ms/step - accuracy: 0.6092 - loss: 1.0986 - val_accuracy: 0.6556 - val_loss: 0.9806\n",
      "Epoch 6/50\n",
      "\u001B[1m391/391\u001B[0m \u001B[32m━━━━━━━━━━━━━━━━━━━━\u001B[0m\u001B[37m\u001B[0m \u001B[1m1s\u001B[0m 2ms/step - accuracy: 0.6225 - loss: 1.0636 - val_accuracy: 0.6663 - val_loss: 0.9401\n",
      "Epoch 7/50\n",
      "\u001B[1m391/391\u001B[0m \u001B[32m━━━━━━━━━━━━━━━━━━━━\u001B[0m\u001B[37m\u001B[0m \u001B[1m1s\u001B[0m 2ms/step - accuracy: 0.6317 - loss: 1.0349 - val_accuracy: 0.6830 - val_loss: 0.8974\n",
      "Epoch 8/50\n",
      "\u001B[1m391/391\u001B[0m \u001B[32m━━━━━━━━━━━━━━━━━━━━\u001B[0m\u001B[37m\u001B[0m \u001B[1m1s\u001B[0m 2ms/step - accuracy: 0.6461 - loss: 0.9991 - val_accuracy: 0.6520 - val_loss: 0.9957\n",
      "Epoch 9/50\n",
      "\u001B[1m391/391\u001B[0m \u001B[32m━━━━━━━━━━━━━━━━━━━━\u001B[0m\u001B[37m\u001B[0m \u001B[1m1s\u001B[0m 2ms/step - accuracy: 0.6549 - loss: 0.9803 - val_accuracy: 0.6853 - val_loss: 0.8987\n",
      "Epoch 10/50\n",
      "\u001B[1m391/391\u001B[0m \u001B[32m━━━━━━━━━━━━━━━━━━━━\u001B[0m\u001B[37m\u001B[0m \u001B[1m1s\u001B[0m 2ms/step - accuracy: 0.6556 - loss: 0.9686 - val_accuracy: 0.6904 - val_loss: 0.8704\n",
      "Epoch 11/50\n",
      "\u001B[1m391/391\u001B[0m \u001B[32m━━━━━━━━━━━━━━━━━━━━\u001B[0m\u001B[37m\u001B[0m \u001B[1m1s\u001B[0m 2ms/step - accuracy: 0.6697 - loss: 0.9365 - val_accuracy: 0.7094 - val_loss: 0.8350\n",
      "Epoch 12/50\n",
      "\u001B[1m391/391\u001B[0m \u001B[32m━━━━━━━━━━━━━━━━━━━━\u001B[0m\u001B[37m\u001B[0m \u001B[1m1s\u001B[0m 2ms/step - accuracy: 0.6707 - loss: 0.9369 - val_accuracy: 0.7065 - val_loss: 0.8406\n",
      "Epoch 13/50\n",
      "\u001B[1m391/391\u001B[0m \u001B[32m━━━━━━━━━━━━━━━━━━━━\u001B[0m\u001B[37m\u001B[0m \u001B[1m1s\u001B[0m 2ms/step - accuracy: 0.6767 - loss: 0.9204 - val_accuracy: 0.6923 - val_loss: 0.8688\n",
      "Epoch 14/50\n",
      "\u001B[1m391/391\u001B[0m \u001B[32m━━━━━━━━━━━━━━━━━━━━\u001B[0m\u001B[37m\u001B[0m \u001B[1m1s\u001B[0m 2ms/step - accuracy: 0.6845 - loss: 0.9006 - val_accuracy: 0.7051 - val_loss: 0.8453\n",
      "Epoch 15/50\n",
      "\u001B[1m391/391\u001B[0m \u001B[32m━━━━━━━━━━━━━━━━━━━━\u001B[0m\u001B[37m\u001B[0m \u001B[1m1s\u001B[0m 2ms/step - accuracy: 0.6856 - loss: 0.8894 - val_accuracy: 0.7211 - val_loss: 0.8065\n",
      "Epoch 16/50\n",
      "\u001B[1m391/391\u001B[0m \u001B[32m━━━━━━━━━━━━━━━━━━━━\u001B[0m\u001B[37m\u001B[0m \u001B[1m1s\u001B[0m 2ms/step - accuracy: 0.6928 - loss: 0.8704 - val_accuracy: 0.7084 - val_loss: 0.8254\n",
      "Epoch 17/50\n",
      "\u001B[1m391/391\u001B[0m \u001B[32m━━━━━━━━━━━━━━━━━━━━\u001B[0m\u001B[37m\u001B[0m \u001B[1m1s\u001B[0m 2ms/step - accuracy: 0.6930 - loss: 0.8711 - val_accuracy: 0.7172 - val_loss: 0.8042\n",
      "Epoch 18/50\n",
      "\u001B[1m391/391\u001B[0m \u001B[32m━━━━━━━━━━━━━━━━━━━━\u001B[0m\u001B[37m\u001B[0m \u001B[1m1s\u001B[0m 2ms/step - accuracy: 0.6909 - loss: 0.8730 - val_accuracy: 0.7227 - val_loss: 0.7968\n",
      "Epoch 19/50\n",
      "\u001B[1m391/391\u001B[0m \u001B[32m━━━━━━━━━━━━━━━━━━━━\u001B[0m\u001B[37m\u001B[0m \u001B[1m1s\u001B[0m 2ms/step - accuracy: 0.7048 - loss: 0.8409 - val_accuracy: 0.7241 - val_loss: 0.7855\n",
      "Epoch 20/50\n",
      "\u001B[1m391/391\u001B[0m \u001B[32m━━━━━━━━━━━━━━━━━━━━\u001B[0m\u001B[37m\u001B[0m \u001B[1m1s\u001B[0m 2ms/step - accuracy: 0.7045 - loss: 0.8418 - val_accuracy: 0.7156 - val_loss: 0.8124\n",
      "Epoch 21/50\n",
      "\u001B[1m391/391\u001B[0m \u001B[32m━━━━━━━━━━━━━━━━━━━━\u001B[0m\u001B[37m\u001B[0m \u001B[1m1s\u001B[0m 2ms/step - accuracy: 0.7037 - loss: 0.8376 - val_accuracy: 0.7232 - val_loss: 0.7908\n",
      "Epoch 22/50\n",
      "\u001B[1m391/391\u001B[0m \u001B[32m━━━━━━━━━━━━━━━━━━━━\u001B[0m\u001B[37m\u001B[0m \u001B[1m1s\u001B[0m 2ms/step - accuracy: 0.7027 - loss: 0.8449 - val_accuracy: 0.7304 - val_loss: 0.7662\n",
      "Epoch 23/50\n",
      "\u001B[1m391/391\u001B[0m \u001B[32m━━━━━━━━━━━━━━━━━━━━\u001B[0m\u001B[37m\u001B[0m \u001B[1m1s\u001B[0m 2ms/step - accuracy: 0.7064 - loss: 0.8277 - val_accuracy: 0.7282 - val_loss: 0.7793\n",
      "Epoch 24/50\n",
      "\u001B[1m391/391\u001B[0m \u001B[32m━━━━━━━━━━━━━━━━━━━━\u001B[0m\u001B[37m\u001B[0m \u001B[1m1s\u001B[0m 2ms/step - accuracy: 0.7157 - loss: 0.8115 - val_accuracy: 0.7269 - val_loss: 0.7822\n",
      "Epoch 25/50\n",
      "\u001B[1m391/391\u001B[0m \u001B[32m━━━━━━━━━━━━━━━━━━━━\u001B[0m\u001B[37m\u001B[0m \u001B[1m1s\u001B[0m 2ms/step - accuracy: 0.7135 - loss: 0.8087 - val_accuracy: 0.7379 - val_loss: 0.7485\n",
      "Epoch 26/50\n",
      "\u001B[1m391/391\u001B[0m \u001B[32m━━━━━━━━━━━━━━━━━━━━\u001B[0m\u001B[37m\u001B[0m \u001B[1m1s\u001B[0m 2ms/step - accuracy: 0.7170 - loss: 0.8042 - val_accuracy: 0.7313 - val_loss: 0.7622\n",
      "Epoch 27/50\n",
      "\u001B[1m391/391\u001B[0m \u001B[32m━━━━━━━━━━━━━━━━━━━━\u001B[0m\u001B[37m\u001B[0m \u001B[1m1s\u001B[0m 2ms/step - accuracy: 0.7206 - loss: 0.7916 - val_accuracy: 0.7423 - val_loss: 0.7499\n",
      "Epoch 28/50\n",
      "\u001B[1m391/391\u001B[0m \u001B[32m━━━━━━━━━━━━━━━━━━━━\u001B[0m\u001B[37m\u001B[0m \u001B[1m2s\u001B[0m 6ms/step - accuracy: 0.7192 - loss: 0.8014 - val_accuracy: 0.7367 - val_loss: 0.7601\n",
      "Epoch 29/50\n",
      "\u001B[1m391/391\u001B[0m \u001B[32m━━━━━━━━━━━━━━━━━━━━\u001B[0m\u001B[37m\u001B[0m \u001B[1m1s\u001B[0m 2ms/step - accuracy: 0.7187 - loss: 0.7959 - val_accuracy: 0.7444 - val_loss: 0.7495\n",
      "Epoch 30/50\n",
      "\u001B[1m391/391\u001B[0m \u001B[32m━━━━━━━━━━━━━━━━━━━━\u001B[0m\u001B[37m\u001B[0m \u001B[1m1s\u001B[0m 2ms/step - accuracy: 0.7239 - loss: 0.7795 - val_accuracy: 0.7438 - val_loss: 0.7320\n",
      "Epoch 31/50\n",
      "\u001B[1m391/391\u001B[0m \u001B[32m━━━━━━━━━━━━━━━━━━━━\u001B[0m\u001B[37m\u001B[0m \u001B[1m1s\u001B[0m 2ms/step - accuracy: 0.7225 - loss: 0.7860 - val_accuracy: 0.7354 - val_loss: 0.7598\n",
      "Epoch 32/50\n",
      "\u001B[1m391/391\u001B[0m \u001B[32m━━━━━━━━━━━━━━━━━━━━\u001B[0m\u001B[37m\u001B[0m \u001B[1m1s\u001B[0m 2ms/step - accuracy: 0.7242 - loss: 0.7804 - val_accuracy: 0.7460 - val_loss: 0.7346\n",
      "Epoch 33/50\n",
      "\u001B[1m391/391\u001B[0m \u001B[32m━━━━━━━━━━━━━━━━━━━━\u001B[0m\u001B[37m\u001B[0m \u001B[1m1s\u001B[0m 2ms/step - accuracy: 0.7249 - loss: 0.7798 - val_accuracy: 0.7455 - val_loss: 0.7294\n",
      "Epoch 34/50\n",
      "\u001B[1m391/391\u001B[0m \u001B[32m━━━━━━━━━━━━━━━━━━━━\u001B[0m\u001B[37m\u001B[0m \u001B[1m1s\u001B[0m 2ms/step - accuracy: 0.7270 - loss: 0.7719 - val_accuracy: 0.7324 - val_loss: 0.7568\n",
      "Epoch 35/50\n",
      "\u001B[1m391/391\u001B[0m \u001B[32m━━━━━━━━━━━━━━━━━━━━\u001B[0m\u001B[37m\u001B[0m \u001B[1m1s\u001B[0m 2ms/step - accuracy: 0.7276 - loss: 0.7649 - val_accuracy: 0.7471 - val_loss: 0.7257\n",
      "Epoch 36/50\n",
      "\u001B[1m391/391\u001B[0m \u001B[32m━━━━━━━━━━━━━━━━━━━━\u001B[0m\u001B[37m\u001B[0m \u001B[1m1s\u001B[0m 2ms/step - accuracy: 0.7358 - loss: 0.7546 - val_accuracy: 0.7267 - val_loss: 0.7854\n",
      "Epoch 37/50\n",
      "\u001B[1m391/391\u001B[0m \u001B[32m━━━━━━━━━━━━━━━━━━━━\u001B[0m\u001B[37m\u001B[0m \u001B[1m1s\u001B[0m 2ms/step - accuracy: 0.7291 - loss: 0.7667 - val_accuracy: 0.7441 - val_loss: 0.7448\n",
      "Epoch 38/50\n",
      "\u001B[1m391/391\u001B[0m \u001B[32m━━━━━━━━━━━━━━━━━━━━\u001B[0m\u001B[37m\u001B[0m \u001B[1m1s\u001B[0m 2ms/step - accuracy: 0.7351 - loss: 0.7549 - val_accuracy: 0.7467 - val_loss: 0.7233\n",
      "\u001B[1m1563/1563\u001B[0m \u001B[32m━━━━━━━━━━━━━━━━━━━━\u001B[0m\u001B[37m\u001B[0m \u001B[1m2s\u001B[0m 1ms/step - accuracy: 0.8076 - loss: 0.5568\n",
      "\u001B[1m313/313\u001B[0m \u001B[32m━━━━━━━━━━━━━━━━━━━━\u001B[0m\u001B[37m\u001B[0m \u001B[1m0s\u001B[0m 973us/step - accuracy: 0.7463 - loss: 0.7205\n"
     ]
    },
    {
     "data": {
      "text/plain": [
       "[0.7233061790466309, 0.7466999888420105]"
      ]
     },
     "execution_count": 33,
     "metadata": {},
     "output_type": "execute_result"
    }
   ],
   "execution_count": 33
  },
  {
   "metadata": {
    "ExecuteTime": {
     "end_time": "2025-08-17T11:45:57.348629Z",
     "start_time": "2025-08-17T11:45:57.300969Z"
    }
   },
   "cell_type": "code",
   "source": [
    "plt.plot(history.history['accuracy'], label='Training Accuracy')\n",
    "plt.plot(history.history['val_accuracy'], label='Testing Accuracy')\n",
    "print()\n",
    "plt.legend()\n",
    "plt.show()"
   ],
   "id": "2c4c36e8571e4afc",
   "outputs": [
    {
     "name": "stdout",
     "output_type": "stream",
     "text": [
      "\n"
     ]
    },
    {
     "data": {
      "text/plain": [
       "<Figure size 640x480 with 1 Axes>"
      ],
      "image/png": "[encoded data removed]"
     },
     "metadata": {},
     "output_type": "display_data"
    }
   ],
   "execution_count": 34
  },
  {
   "metadata": {},
   "cell_type": "markdown",
   "source": [
    "# Train + evaluate the reference model on full images\n",
    "- Evaluates the newly merged model on cifar10.\n",
    "- It can be seen that the merged model, when compared to this reference model, has better metrics"
   ],
   "id": "614a602c50baebdf"
  },
  {
   "metadata": {
    "ExecuteTime": {
     "end_time": "2025-08-17T11:46:50.166729Z",
     "start_time": "2025-08-17T11:45:57.372991Z"
    }
   },
   "cell_type": "code",
   "source": [
    "ref_model.evaluate(X_test, y_test)\n",
    "callback = tf.keras.callbacks.EarlyStopping(monitor='loss', patience=3)\n",
    "\n",
    "history = ref_model.fit(X_train, y_train, epochs=50, batch_size=128, validation_data=(X_test, y_test), callbacks=[callback])\n",
    "\n",
    "model.evaluate(X_train, y_train)\n",
    "model.evaluate(X_test, y_test)\n",
    "\n",
    "plt.plot(history.history['accuracy'], label='Ref. Training Accuracy')\n",
    "plt.plot(history.history['val_accuracy'], label='Ref. Testing Accuracy')\n",
    "plt.legend()\n",
    "plt.show()"
   ],
   "id": "52ac83b5c0cc571a",
   "outputs": [
    {
     "name": "stdout",
     "output_type": "stream",
     "text": [
      "\u001B[1m100/313\u001B[0m \u001B[32m━━━━━━\u001B[0m\u001B[37m━━━━━━━━━━━━━━\u001B[0m \u001B[1m0s\u001B[0m 1ms/step - accuracy: 0.0166 - loss: 4.5998"
     ]
    },
    {
     "name": "stderr",
     "output_type": "stream",
     "text": [
      "'+ptx85' is not a recognized feature for this target (ignoring feature)\n",
      "'+ptx85' is not a recognized feature for this target (ignoring feature)\n",
      "'+ptx85' is not a recognized feature for this target (ignoring feature)\n"
     ]
    },
    {
     "name": "stdout",
     "output_type": "stream",
     "text": [
      "\u001B[1m313/313\u001B[0m \u001B[32m━━━━━━━━━━━━━━━━━━━━\u001B[0m\u001B[37m\u001B[0m \u001B[1m1s\u001B[0m 2ms/step - accuracy: 0.0178 - loss: 4.5995\n"
     ]
    },
    {
     "name": "stderr",
     "output_type": "stream",
     "text": [
      "'+ptx85' is not a recognized feature for this target (ignoring feature)\n",
      "'+ptx85' is not a recognized feature for this target (ignoring feature)\n",
      "'+ptx85' is not a recognized feature for this target (ignoring feature)\n"
     ]
    },
    {
     "name": "stdout",
     "output_type": "stream",
     "text": [
      "Epoch 1/50\n"
     ]
    },
    {
     "name": "stderr",
     "output_type": "stream",
     "text": [
      "'+ptx85' is not a recognized feature for this target (ignoring feature)\n",
      "'+ptx85' is not a recognized feature for this target (ignoring feature)\n",
      "'+ptx85' is not a recognized feature for this target (ignoring feature)\n"
     ]
    },
    {
     "name": "stdout",
     "output_type": "stream",
     "text": [
      "\u001B[1m364/391\u001B[0m \u001B[32m━━━━━━━━━━━━━━━━━━\u001B[0m\u001B[37m━━\u001B[0m \u001B[1m0s\u001B[0m 2ms/step - accuracy: 0.1132 - loss: 2.8848"
     ]
    },
    {
     "name": "stderr",
     "output_type": "stream",
     "text": [
      "'+ptx85' is not a recognized feature for this target (ignoring feature)\n",
      "'+ptx85' is not a recognized feature for this target (ignoring feature)\n",
      "'+ptx85' is not a recognized feature for this target (ignoring feature)\n"
     ]
    },
    {
     "name": "stdout",
     "output_type": "stream",
     "text": [
      "\u001B[1m391/391\u001B[0m \u001B[32m━━━━━━━━━━━━━━━━━━━━\u001B[0m\u001B[37m\u001B[0m \u001B[1m5s\u001B[0m 6ms/step - accuracy: 0.1159 - loss: 2.8530 - val_accuracy: 0.2876 - val_loss: 1.9605\n",
      "Epoch 2/50\n",
      "\u001B[1m  1/391\u001B[0m \u001B[37m━━━━━━━━━━━━━━━━━━━━\u001B[0m \u001B[1m5s\u001B[0m 14ms/step - accuracy: 0.3281 - loss: 1.9836"
     ]
    },
    {
     "name": "stderr",
     "output_type": "stream",
     "text": [
      "'+ptx85' is not a recognized feature for this target (ignoring feature)\n",
      "'+ptx85' is not a recognized feature for this target (ignoring feature)\n",
      "'+ptx85' is not a recognized feature for this target (ignoring feature)\n"
     ]
    },
    {
     "name": "stdout",
     "output_type": "stream",
     "text": [
      "\u001B[1m391/391\u001B[0m \u001B[32m━━━━━━━━━━━━━━━━━━━━\u001B[0m\u001B[37m\u001B[0m \u001B[1m1s\u001B[0m 2ms/step - accuracy: 0.2976 - loss: 1.9138 - val_accuracy: 0.4298 - val_loss: 1.5892\n",
      "Epoch 3/50\n",
      "\u001B[1m391/391\u001B[0m \u001B[32m━━━━━━━━━━━━━━━━━━━━\u001B[0m\u001B[37m\u001B[0m \u001B[1m1s\u001B[0m 2ms/step - accuracy: 0.4109 - loss: 1.6240 - val_accuracy: 0.4964 - val_loss: 1.3954\n",
      "Epoch 4/50\n",
      "\u001B[1m391/391\u001B[0m \u001B[32m━━━━━━━━━━━━━━━━━━━━\u001B[0m\u001B[37m\u001B[0m \u001B[1m1s\u001B[0m 2ms/step - accuracy: 0.4698 - loss: 1.4609 - val_accuracy: 0.5284 - val_loss: 1.3063\n",
      "Epoch 5/50\n",
      "\u001B[1m391/391\u001B[0m \u001B[32m━━━━━━━━━━━━━━━━━━━━\u001B[0m\u001B[37m\u001B[0m \u001B[1m1s\u001B[0m 2ms/step - accuracy: 0.5129 - loss: 1.3638 - val_accuracy: 0.5589 - val_loss: 1.2290\n",
      "Epoch 6/50\n",
      "\u001B[1m391/391\u001B[0m \u001B[32m━━━━━━━━━━━━━━━━━━━━\u001B[0m\u001B[37m\u001B[0m \u001B[1m1s\u001B[0m 2ms/step - accuracy: 0.5380 - loss: 1.2953 - val_accuracy: 0.5840 - val_loss: 1.1694\n",
      "Epoch 7/50\n",
      "\u001B[1m391/391\u001B[0m \u001B[32m━━━━━━━━━━━━━━━━━━━━\u001B[0m\u001B[37m\u001B[0m \u001B[1m1s\u001B[0m 2ms/step - accuracy: 0.5542 - loss: 1.2399 - val_accuracy: 0.6099 - val_loss: 1.1174\n",
      "Epoch 8/50\n",
      "\u001B[1m391/391\u001B[0m \u001B[32m━━━━━━━━━━━━━━━━━━━━\u001B[0m\u001B[37m\u001B[0m \u001B[1m1s\u001B[0m 2ms/step - accuracy: 0.5737 - loss: 1.2030 - val_accuracy: 0.6121 - val_loss: 1.0953\n",
      "Epoch 9/50\n",
      "\u001B[1m391/391\u001B[0m \u001B[32m━━━━━━━━━━━━━━━━━━━━\u001B[0m\u001B[37m\u001B[0m \u001B[1m1s\u001B[0m 2ms/step - accuracy: 0.5817 - loss: 1.1662 - val_accuracy: 0.6300 - val_loss: 1.0642\n",
      "Epoch 10/50\n",
      "\u001B[1m391/391\u001B[0m \u001B[32m━━━━━━━━━━━━━━━━━━━━\u001B[0m\u001B[37m\u001B[0m \u001B[1m1s\u001B[0m 2ms/step - accuracy: 0.5921 - loss: 1.1363 - val_accuracy: 0.6412 - val_loss: 1.0311\n",
      "Epoch 11/50\n",
      "\u001B[1m391/391\u001B[0m \u001B[32m━━━━━━━━━━━━━━━━━━━━\u001B[0m\u001B[37m\u001B[0m \u001B[1m1s\u001B[0m 2ms/step - accuracy: 0.6017 - loss: 1.1118 - val_accuracy: 0.6341 - val_loss: 1.0385\n",
      "Epoch 12/50\n",
      "\u001B[1m391/391\u001B[0m \u001B[32m━━━━━━━━━━━━━━━━━━━━\u001B[0m\u001B[37m\u001B[0m \u001B[1m1s\u001B[0m 2ms/step - accuracy: 0.6112 - loss: 1.0871 - val_accuracy: 0.6324 - val_loss: 1.0404\n",
      "Epoch 13/50\n",
      "\u001B[1m391/391\u001B[0m \u001B[32m━━━━━━━━━━━━━━━━━━━━\u001B[0m\u001B[37m\u001B[0m \u001B[1m1s\u001B[0m 2ms/step - accuracy: 0.6198 - loss: 1.0709 - val_accuracy: 0.6483 - val_loss: 0.9900\n",
      "Epoch 14/50\n",
      "\u001B[1m391/391\u001B[0m \u001B[32m━━━━━━━━━━━━━━━━━━━━\u001B[0m\u001B[37m\u001B[0m \u001B[1m1s\u001B[0m 2ms/step - accuracy: 0.6290 - loss: 1.0498 - val_accuracy: 0.6565 - val_loss: 0.9789\n",
      "Epoch 15/50\n",
      "\u001B[1m391/391\u001B[0m \u001B[32m━━━━━━━━━━━━━━━━━━━━\u001B[0m\u001B[37m\u001B[0m \u001B[1m1s\u001B[0m 2ms/step - accuracy: 0.6393 - loss: 1.0215 - val_accuracy: 0.6512 - val_loss: 0.9949\n",
      "Epoch 16/50\n",
      "\u001B[1m391/391\u001B[0m \u001B[32m━━━━━━━━━━━━━━━━━━━━\u001B[0m\u001B[37m\u001B[0m \u001B[1m2s\u001B[0m 6ms/step - accuracy: 0.6367 - loss: 1.0230 - val_accuracy: 0.6442 - val_loss: 1.0112\n",
      "Epoch 17/50\n",
      "\u001B[1m391/391\u001B[0m \u001B[32m━━━━━━━━━━━━━━━━━━━━\u001B[0m\u001B[37m\u001B[0m \u001B[1m1s\u001B[0m 2ms/step - accuracy: 0.6411 - loss: 1.0152 - val_accuracy: 0.6662 - val_loss: 0.9462\n",
      "Epoch 18/50\n",
      "\u001B[1m391/391\u001B[0m \u001B[32m━━━━━━━━━━━━━━━━━━━━\u001B[0m\u001B[37m\u001B[0m \u001B[1m1s\u001B[0m 2ms/step - accuracy: 0.6491 - loss: 0.9945 - val_accuracy: 0.6489 - val_loss: 0.9960\n",
      "Epoch 19/50\n",
      "\u001B[1m391/391\u001B[0m \u001B[32m━━━━━━━━━━━━━━━━━━━━\u001B[0m\u001B[37m\u001B[0m \u001B[1m1s\u001B[0m 2ms/step - accuracy: 0.6457 - loss: 0.9948 - val_accuracy: 0.6776 - val_loss: 0.9126\n",
      "Epoch 20/50\n",
      "\u001B[1m391/391\u001B[0m \u001B[32m━━━━━━━━━━━━━━━━━━━━\u001B[0m\u001B[37m\u001B[0m \u001B[1m1s\u001B[0m 2ms/step - accuracy: 0.6523 - loss: 0.9831 - val_accuracy: 0.6837 - val_loss: 0.9026\n",
      "Epoch 21/50\n",
      "\u001B[1m391/391\u001B[0m \u001B[32m━━━━━━━━━━━━━━━━━━━━\u001B[0m\u001B[37m\u001B[0m \u001B[1m1s\u001B[0m 2ms/step - accuracy: 0.6571 - loss: 0.9662 - val_accuracy: 0.6816 - val_loss: 0.9055\n",
      "Epoch 22/50\n",
      "\u001B[1m391/391\u001B[0m \u001B[32m━━━━━━━━━━━━━━━━━━━━\u001B[0m\u001B[37m\u001B[0m \u001B[1m1s\u001B[0m 2ms/step - accuracy: 0.6622 - loss: 0.9542 - val_accuracy: 0.6797 - val_loss: 0.9182\n",
      "Epoch 23/50\n",
      "\u001B[1m391/391\u001B[0m \u001B[32m━━━━━━━━━━━━━━━━━━━━\u001B[0m\u001B[37m\u001B[0m \u001B[1m1s\u001B[0m 2ms/step - accuracy: 0.6622 - loss: 0.9519 - val_accuracy: 0.6832 - val_loss: 0.8994\n",
      "Epoch 24/50\n",
      "\u001B[1m391/391\u001B[0m \u001B[32m━━━━━━━━━━━━━━━━━━━━\u001B[0m\u001B[37m\u001B[0m \u001B[1m1s\u001B[0m 2ms/step - accuracy: 0.6674 - loss: 0.9395 - val_accuracy: 0.6767 - val_loss: 0.9170\n",
      "Epoch 25/50\n",
      "\u001B[1m391/391\u001B[0m \u001B[32m━━━━━━━━━━━━━━━━━━━━\u001B[0m\u001B[37m\u001B[0m \u001B[1m1s\u001B[0m 2ms/step - accuracy: 0.6714 - loss: 0.9304 - val_accuracy: 0.6897 - val_loss: 0.8828\n",
      "Epoch 26/50\n",
      "\u001B[1m391/391\u001B[0m \u001B[32m━━━━━━━━━━━━━━━━━━━━\u001B[0m\u001B[37m\u001B[0m \u001B[1m1s\u001B[0m 2ms/step - accuracy: 0.6641 - loss: 0.9416 - val_accuracy: 0.6879 - val_loss: 0.8916\n",
      "Epoch 27/50\n",
      "\u001B[1m391/391\u001B[0m \u001B[32m━━━━━━━━━━━━━━━━━━━━\u001B[0m\u001B[37m\u001B[0m \u001B[1m1s\u001B[0m 2ms/step - accuracy: 0.6773 - loss: 0.9119 - val_accuracy: 0.6882 - val_loss: 0.8916\n",
      "Epoch 28/50\n",
      "\u001B[1m391/391\u001B[0m \u001B[32m━━━━━━━━━━━━━━━━━━━━\u001B[0m\u001B[37m\u001B[0m \u001B[1m1s\u001B[0m 2ms/step - accuracy: 0.6792 - loss: 0.9100 - val_accuracy: 0.6945 - val_loss: 0.8677\n",
      "Epoch 29/50\n",
      "\u001B[1m391/391\u001B[0m \u001B[32m━━━━━━━━━━━━━━━━━━━━\u001B[0m\u001B[37m\u001B[0m \u001B[1m1s\u001B[0m 2ms/step - accuracy: 0.6858 - loss: 0.8937 - val_accuracy: 0.7064 - val_loss: 0.8383\n",
      "Epoch 30/50\n",
      "\u001B[1m391/391\u001B[0m \u001B[32m━━━━━━━━━━━━━━━━━━━━\u001B[0m\u001B[37m\u001B[0m \u001B[1m1s\u001B[0m 2ms/step - accuracy: 0.6870 - loss: 0.8911 - val_accuracy: 0.7010 - val_loss: 0.8616\n",
      "Epoch 31/50\n",
      "\u001B[1m391/391\u001B[0m \u001B[32m━━━━━━━━━━━━━━━━━━━━\u001B[0m\u001B[37m\u001B[0m \u001B[1m1s\u001B[0m 2ms/step - accuracy: 0.6871 - loss: 0.8766 - val_accuracy: 0.7034 - val_loss: 0.8454\n",
      "Epoch 32/50\n",
      "\u001B[1m391/391\u001B[0m \u001B[32m━━━━━━━━━━━━━━━━━━━━\u001B[0m\u001B[37m\u001B[0m \u001B[1m1s\u001B[0m 2ms/step - accuracy: 0.6845 - loss: 0.8844 - val_accuracy: 0.6995 - val_loss: 0.8645\n",
      "Epoch 33/50\n",
      "\u001B[1m391/391\u001B[0m \u001B[32m━━━━━━━━━━━━━━━━━━━━\u001B[0m\u001B[37m\u001B[0m \u001B[1m1s\u001B[0m 2ms/step - accuracy: 0.6903 - loss: 0.8738 - val_accuracy: 0.6952 - val_loss: 0.8779\n",
      "Epoch 34/50\n",
      "\u001B[1m391/391\u001B[0m \u001B[32m━━━━━━━━━━━━━━━━━━━━\u001B[0m\u001B[37m\u001B[0m \u001B[1m1s\u001B[0m 2ms/step - accuracy: 0.6870 - loss: 0.8777 - val_accuracy: 0.7114 - val_loss: 0.8277\n",
      "Epoch 35/50\n",
      "\u001B[1m391/391\u001B[0m \u001B[32m━━━━━━━━━━━━━━━━━━━━\u001B[0m\u001B[37m\u001B[0m \u001B[1m1s\u001B[0m 2ms/step - accuracy: 0.6954 - loss: 0.8616 - val_accuracy: 0.7106 - val_loss: 0.8238\n",
      "Epoch 36/50\n",
      "\u001B[1m391/391\u001B[0m \u001B[32m━━━━━━━━━━━━━━━━━━━━\u001B[0m\u001B[37m\u001B[0m \u001B[1m1s\u001B[0m 2ms/step - accuracy: 0.7011 - loss: 0.8572 - val_accuracy: 0.7072 - val_loss: 0.8487\n",
      "Epoch 37/50\n",
      "\u001B[1m391/391\u001B[0m \u001B[32m━━━━━━━━━━━━━━━━━━━━\u001B[0m\u001B[37m\u001B[0m \u001B[1m1s\u001B[0m 2ms/step - accuracy: 0.6998 - loss: 0.8563 - val_accuracy: 0.6936 - val_loss: 0.8937\n",
      "Epoch 38/50\n",
      "\u001B[1m391/391\u001B[0m \u001B[32m━━━━━━━━━━━━━━━━━━━━\u001B[0m\u001B[37m\u001B[0m \u001B[1m1s\u001B[0m 2ms/step - accuracy: 0.6993 - loss: 0.8545 - val_accuracy: 0.7070 - val_loss: 0.8315\n",
      "Epoch 39/50\n",
      "\u001B[1m391/391\u001B[0m \u001B[32m━━━━━━━━━━━━━━━━━━━━\u001B[0m\u001B[37m\u001B[0m \u001B[1m1s\u001B[0m 2ms/step - accuracy: 0.6983 - loss: 0.8554 - val_accuracy: 0.7105 - val_loss: 0.8285\n",
      "Epoch 40/50\n",
      "\u001B[1m391/391\u001B[0m \u001B[32m━━━━━━━━━━━━━━━━━━━━\u001B[0m\u001B[37m\u001B[0m \u001B[1m1s\u001B[0m 2ms/step - accuracy: 0.7080 - loss: 0.8352 - val_accuracy: 0.7040 - val_loss: 0.8350\n",
      "Epoch 41/50\n",
      "\u001B[1m391/391\u001B[0m \u001B[32m━━━━━━━━━━━━━━━━━━━━\u001B[0m\u001B[37m\u001B[0m \u001B[1m1s\u001B[0m 2ms/step - accuracy: 0.7022 - loss: 0.8405 - val_accuracy: 0.6907 - val_loss: 0.8988\n",
      "Epoch 42/50\n",
      "\u001B[1m391/391\u001B[0m \u001B[32m━━━━━━━━━━━━━━━━━━━━\u001B[0m\u001B[37m\u001B[0m \u001B[1m1s\u001B[0m 2ms/step - accuracy: 0.7054 - loss: 0.8309 - val_accuracy: 0.7168 - val_loss: 0.8121\n",
      "Epoch 43/50\n",
      "\u001B[1m391/391\u001B[0m \u001B[32m━━━━━━━━━━━━━━━━━━━━\u001B[0m\u001B[37m\u001B[0m \u001B[1m1s\u001B[0m 2ms/step - accuracy: 0.7071 - loss: 0.8324 - val_accuracy: 0.7150 - val_loss: 0.8323\n",
      "Epoch 44/50\n",
      "\u001B[1m391/391\u001B[0m \u001B[32m━━━━━━━━━━━━━━━━━━━━\u001B[0m\u001B[37m\u001B[0m \u001B[1m1s\u001B[0m 2ms/step - accuracy: 0.7114 - loss: 0.8259 - val_accuracy: 0.7201 - val_loss: 0.8064\n",
      "Epoch 45/50\n",
      "\u001B[1m391/391\u001B[0m \u001B[32m━━━━━━━━━━━━━━━━━━━━\u001B[0m\u001B[37m\u001B[0m \u001B[1m1s\u001B[0m 2ms/step - accuracy: 0.7102 - loss: 0.8234 - val_accuracy: 0.7105 - val_loss: 0.8268\n",
      "Epoch 46/50\n",
      "\u001B[1m391/391\u001B[0m \u001B[32m━━━━━━━━━━━━━━━━━━━━\u001B[0m\u001B[37m\u001B[0m \u001B[1m1s\u001B[0m 2ms/step - accuracy: 0.7059 - loss: 0.8317 - val_accuracy: 0.7246 - val_loss: 0.7838\n",
      "Epoch 47/50\n",
      "\u001B[1m391/391\u001B[0m \u001B[32m━━━━━━━━━━━━━━━━━━━━\u001B[0m\u001B[37m\u001B[0m \u001B[1m1s\u001B[0m 2ms/step - accuracy: 0.7114 - loss: 0.8110 - val_accuracy: 0.7220 - val_loss: 0.7969\n",
      "Epoch 48/50\n",
      "\u001B[1m391/391\u001B[0m \u001B[32m━━━━━━━━━━━━━━━━━━━━\u001B[0m\u001B[37m\u001B[0m \u001B[1m1s\u001B[0m 2ms/step - accuracy: 0.7168 - loss: 0.8027 - val_accuracy: 0.7157 - val_loss: 0.8073\n",
      "Epoch 49/50\n",
      "\u001B[1m391/391\u001B[0m \u001B[32m━━━━━━━━━━━━━━━━━━━━\u001B[0m\u001B[37m\u001B[0m \u001B[1m1s\u001B[0m 2ms/step - accuracy: 0.7150 - loss: 0.8077 - val_accuracy: 0.7054 - val_loss: 0.8429\n",
      "Epoch 50/50\n",
      "\u001B[1m391/391\u001B[0m \u001B[32m━━━━━━━━━━━━━━━━━━━━\u001B[0m\u001B[37m\u001B[0m \u001B[1m1s\u001B[0m 2ms/step - accuracy: 0.7109 - loss: 0.8098 - val_accuracy: 0.7204 - val_loss: 0.7981\n",
      "\u001B[1m1563/1563\u001B[0m \u001B[32m━━━━━━━━━━━━━━━━━━━━\u001B[0m\u001B[37m\u001B[0m \u001B[1m3s\u001B[0m 2ms/step - accuracy: 0.8076 - loss: 0.5568\n",
      "\u001B[1m313/313\u001B[0m \u001B[32m━━━━━━━━━━━━━━━━━━━━\u001B[0m\u001B[37m\u001B[0m \u001B[1m0s\u001B[0m 1ms/step - accuracy: 0.7463 - loss: 0.7205\n"
     ]
    },
    {
     "data": {
      "text/plain": [
       "<Figure size 640x480 with 1 Axes>"
      ],
      "image/png": "[encoded data removed]"
     },
     "metadata": {},
     "output_type": "display_data"
    }
   ],
   "execution_count": 35
  },
  {
   "metadata": {},
   "cell_type": "markdown",
   "source": "It can be seen from the results that the reference model has a worse accuracy when compared to the concatenated one.",
   "id": "8685f0e5f042965a"
  }
 ],
 "metadata": {
  "kernelspec": {
   "display_name": "Python 3",
   "language": "python",
   "name": "python3"
  },
  "language_info": {
   "codemirror_mode": {
    "name": "ipython",
    "version": 2
   },
   "file_extension": ".py",
   "mimetype": "text/x-python",
   "name": "python",
   "nbconvert_exporter": "python",
   "pygments_lexer": "ipython2",
   "version": "2.7.6"
  }
 },
 "nbformat": 4,
 "nbformat_minor": 5
}
